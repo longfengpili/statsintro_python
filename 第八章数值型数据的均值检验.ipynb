{
 "cells": [
  {
   "cell_type": "markdown",
   "metadata": {},
   "source": [
    "# t检验"
   ]
  },
  {
   "cell_type": "code",
   "execution_count": 24,
   "metadata": {
    "ExecuteTime": {
     "end_time": "2019-08-09T05:30:17.972899Z",
     "start_time": "2019-08-09T05:30:17.969899Z"
    }
   },
   "outputs": [],
   "source": [
    "from scipy import stats as st\n",
    "np.random.seed(12345)"
   ]
  },
  {
   "cell_type": "code",
   "execution_count": 25,
   "metadata": {
    "ExecuteTime": {
     "end_time": "2019-08-09T05:30:18.716412Z",
     "start_time": "2019-08-09T05:30:18.608386Z"
    }
   },
   "outputs": [
    {
     "data": {
      "text/plain": [
       "[<matplotlib.lines.Line2D at 0x26ded399128>]"
      ]
     },
     "execution_count": 25,
     "metadata": {},
     "output_type": "execute_result"
    },
    {
     "data": {
      "text/plain": [
       "[<matplotlib.lines.Line2D at 0x26ded57eb00>]"
      ]
     },
     "execution_count": 25,
     "metadata": {},
     "output_type": "execute_result"
    },
    {
     "data": {
      "image/png": "[encoded data removed]",
      "text/plain": [
       "<Figure size 432x288 with 1 Axes>"
      ]
     },
     "metadata": {
      "needs_background": "light"
     },
     "output_type": "display_data"
    }
   ],
   "source": [
    "nd = st.norm(7, 3)\n",
    "x = np.linspace(0, 14, 100)\n",
    "y = nd.pdf(x)\n",
    "z = nd.cdf(x)\n",
    "plt.plot(x, y)\n",
    "plt.plot(x, z)"
   ]
  },
  {
   "cell_type": "code",
   "execution_count": 26,
   "metadata": {
    "ExecuteTime": {
     "end_time": "2019-08-09T05:30:20.161102Z",
     "start_time": "2019-08-09T05:30:20.151102Z"
    }
   },
   "outputs": [
    {
     "data": {
      "text/plain": [
       "array([6.38587702, 8.43683001, 5.44168385])"
      ]
     },
     "execution_count": 26,
     "metadata": {},
     "output_type": "execute_result"
    },
    {
     "data": {
      "text/plain": [
       "7.100843164626591"
      ]
     },
     "execution_count": 26,
     "metadata": {},
     "output_type": "execute_result"
    },
    {
     "data": {
      "text/plain": [
       "0.31208976207563466"
      ]
     },
     "execution_count": 26,
     "metadata": {},
     "output_type": "execute_result"
    }
   ],
   "source": [
    "data = nd.rvs(100)\n",
    "data[:3]\n",
    "np.mean(data)\n",
    "st.sem(data)"
   ]
  },
  {
   "cell_type": "code",
   "execution_count": 35,
   "metadata": {
    "ExecuteTime": {
     "end_time": "2019-08-09T05:38:52.725183Z",
     "start_time": "2019-08-09T05:38:52.721185Z"
    }
   },
   "outputs": [],
   "source": [
    "checkVal = 6.5"
   ]
  },
  {
   "cell_type": "code",
   "execution_count": 30,
   "metadata": {
    "ExecuteTime": {
     "end_time": "2019-08-09T05:37:20.294865Z",
     "start_time": "2019-08-09T05:37:20.289865Z"
    }
   },
   "outputs": [
    {
     "data": {
      "text/plain": [
       "1.9252254884316808"
      ]
     },
     "execution_count": 30,
     "metadata": {},
     "output_type": "execute_result"
    },
    {
     "data": {
      "text/plain": [
       "0.05707107880872914"
      ]
     },
     "execution_count": 30,
     "metadata": {},
     "output_type": "execute_result"
    }
   ],
   "source": [
    "t, tProb = st.ttest_1samp(data, checkVal)\n",
    "t\n",
    "tProb"
   ]
  },
  {
   "cell_type": "code",
   "execution_count": 36,
   "metadata": {
    "ExecuteTime": {
     "end_time": "2019-08-09T05:38:55.434763Z",
     "start_time": "2019-08-09T05:38:55.425760Z"
    }
   },
   "outputs": [
    {
     "data": {
      "text/plain": [
       "7.100843164626591"
      ]
     },
     "execution_count": 36,
     "metadata": {},
     "output_type": "execute_result"
    },
    {
     "data": {
      "text/plain": [
       "3.1208976207563466"
      ]
     },
     "execution_count": 36,
     "metadata": {},
     "output_type": "execute_result"
    },
    {
     "data": {
      "text/plain": [
       "0.05420115469007144"
      ]
     },
     "execution_count": 36,
     "metadata": {},
     "output_type": "execute_result"
    }
   ],
   "source": [
    "mmean = np.mean(data)\n",
    "mmean\n",
    "mstd = np.std(data, ddof=1)\n",
    "mstd\n",
    "normProb = st.norm.cdf(checkVal, loc=mmean,\n",
    "        scale=mstd/np.sqrt(len(data)))*2\n",
    "\n",
    "normProb"
   ]
  },
  {
   "cell_type": "code",
   "execution_count": 49,
   "metadata": {
    "ExecuteTime": {
     "end_time": "2019-08-09T05:57:53.559728Z",
     "start_time": "2019-08-09T05:57:53.555728Z"
    }
   },
   "outputs": [
    {
     "data": {
      "text/plain": [
       "-1.9225238149740722"
      ]
     },
     "execution_count": 49,
     "metadata": {},
     "output_type": "execute_result"
    }
   ],
   "source": [
    "tavl = (6.5 - 7.1) / st.sem(data,ddof=1)\n",
    "tavl"
   ]
  },
  {
   "cell_type": "code",
   "execution_count": 50,
   "metadata": {
    "ExecuteTime": {
     "end_time": "2019-08-09T05:58:02.631526Z",
     "start_time": "2019-08-09T05:58:02.625527Z"
    }
   },
   "outputs": [
    {
     "data": {
      "text/plain": [
       "0.057414194513175094"
      ]
     },
     "execution_count": 50,
     "metadata": {},
     "output_type": "execute_result"
    }
   ],
   "source": [
    "td = st.t(len(data) - 1)\n",
    "td.cdf(tavl) * 2"
   ]
  },
  {
   "cell_type": "code",
   "execution_count": 51,
   "metadata": {
    "ExecuteTime": {
     "end_time": "2019-08-09T05:58:03.351965Z",
     "start_time": "2019-08-09T05:58:03.345966Z"
    }
   },
   "outputs": [
    {
     "data": {
      "text/plain": [
       "0.05453987993447378"
      ]
     },
     "execution_count": 51,
     "metadata": {},
     "output_type": "execute_result"
    }
   ],
   "source": [
    "nd_ = st.norm()\n",
    "nd_.cdf(tavl) * 2"
   ]
  },
  {
   "cell_type": "code",
   "execution_count": 55,
   "metadata": {
    "ExecuteTime": {
     "end_time": "2019-08-09T06:00:36.457981Z",
     "start_time": "2019-08-09T06:00:36.449977Z"
    }
   },
   "outputs": [
    {
     "data": {
      "text/plain": [
       "0.31208976207563466"
      ]
     },
     "execution_count": 55,
     "metadata": {},
     "output_type": "execute_result"
    },
    {
     "data": {
      "text/plain": [
       "0.3120897620756347"
      ]
     },
     "execution_count": 55,
     "metadata": {},
     "output_type": "execute_result"
    }
   ],
   "source": [
    "st.sem(data,ddof=1)\n",
    "np.std(data) / (99 ** (1/2))"
   ]
  },
  {
   "cell_type": "markdown",
   "metadata": {},
   "source": [
    "# wilcoxon符号秩和检验"
   ]
  },
  {
   "cell_type": "code",
   "execution_count": 56,
   "metadata": {
    "ExecuteTime": {
     "end_time": "2019-08-13T05:29:55.380840Z",
     "start_time": "2019-08-13T05:29:55.374840Z"
    }
   },
   "outputs": [
    {
     "data": {
      "text/plain": [
       "array([5260., 5470., 5640., 6180., 6390., 6515., 6805., 7515., 7515.,\n",
       "       8230., 8770.])"
      ]
     },
     "execution_count": 56,
     "metadata": {},
     "output_type": "execute_result"
    }
   ],
   "source": [
    "data = np.loadtxt('./ISP/Code_Quantlets/08_TestsMeanValues/oneGroup/altman_91.txt')\n",
    "data"
   ]
  },
  {
   "cell_type": "code",
   "execution_count": 59,
   "metadata": {
    "ExecuteTime": {
     "end_time": "2019-08-13T05:32:12.989459Z",
     "start_time": "2019-08-13T05:32:12.982454Z"
    }
   },
   "outputs": [
    {
     "data": {
      "text/plain": [
       "-2.82075406083102"
      ]
     },
     "execution_count": 59,
     "metadata": {},
     "output_type": "execute_result"
    }
   ],
   "source": [
    "td = st.t(len(data) - 1)\n",
    "t_ = (np.mean(data) - 7725)/ (np.std(data) / ((len(data) - 1)) ** (1 / 2))\n",
    "t_"
   ]
  },
  {
   "cell_type": "code",
   "execution_count": 61,
   "metadata": {
    "ExecuteTime": {
     "end_time": "2019-08-13T05:32:47.278621Z",
     "start_time": "2019-08-13T05:32:47.273647Z"
    }
   },
   "outputs": [
    {
     "data": {
      "text/plain": [
       "0.01813723517610578"
      ]
     },
     "execution_count": 61,
     "metadata": {},
     "output_type": "execute_result"
    }
   ],
   "source": [
    "td.cdf(t_) * 2"
   ]
  },
  {
   "cell_type": "code",
   "execution_count": 63,
   "metadata": {
    "ExecuteTime": {
     "end_time": "2019-08-13T05:33:33.363583Z",
     "start_time": "2019-08-13T05:33:33.357583Z"
    }
   },
   "outputs": [
    {
     "data": {
      "text/plain": [
       "WilcoxonResult(statistic=8.0, pvalue=0.026157182329284684)"
      ]
     },
     "execution_count": 63,
     "metadata": {},
     "output_type": "execute_result"
    }
   ],
   "source": [
    "st.wilcoxon(data - 7725)"
   ]
  },
  {
   "cell_type": "code",
   "execution_count": 66,
   "metadata": {
    "ExecuteTime": {
     "end_time": "2019-08-13T05:37:56.268702Z",
     "start_time": "2019-08-13T05:37:56.256702Z"
    }
   },
   "outputs": [
    {
     "name": "stdout",
     "output_type": "stream",
     "text": [
      "Mean and SD: 6753.64 and 1142.12\n",
      "The confidence intervals are 5986.35 to 7520.93.\n",
      "7725.00 is significantly different from the mean (p=0.018).\n"
     ]
    },
    {
     "data": {
      "text/plain": [
       "(8.0, 0.026157182329284684)"
      ]
     },
     "execution_count": 66,
     "metadata": {},
     "output_type": "execute_result"
    },
    {
     "name": "stdout",
     "output_type": "stream",
     "text": [
      "It is unlikely that the value is 7725\n"
     ]
    }
   ],
   "source": [
    "from scipy import stats\n",
    "myMean = np.mean(data)\n",
    "mySD = np.std(data, ddof=1)     # sample standard deviation\n",
    "print(('Mean and SD: {0:4.2f} and {1:4.2f}'.format(myMean, mySD)))\n",
    "\n",
    "# Confidence intervals\n",
    "tf = stats.t(len(data)-1)\n",
    "# multiplication with np.array[-1,1] is a neat trick to implement \"+/-\"\n",
    "ci = np.mean(data) + stats.sem(data)*np.array([-1,1])*tf.ppf(0.975)\n",
    "print(('The confidence intervals are {0:4.2f} to {1:4.2f}.'.format(ci[0], ci[1])))\n",
    "\n",
    "# Check if there is a significant difference relative to \"checkValue\"\n",
    "checkValue = 7725\n",
    "# --- >>> START stats <<< ---\n",
    "t, prob = stats.ttest_1samp(data, checkValue)\n",
    "if prob < 0.05:\n",
    "    print(('{0:4.2f} is significantly different from the mean (p={1:5.3f}).'.format(checkValue, prob)))\n",
    "\n",
    "# For not normally distributed data, use the Wilcoxon signed rank sum test\n",
    "(rank, pVal) = stats.wilcoxon(data-checkValue)\n",
    "(rank, pVal)\n",
    "if pVal < 0.05:\n",
    "  issignificant = 'unlikely'\n",
    "else:\n",
    "  issignificant = 'likely'\n",
    "# --- >>> STOP stats <<< ---\n",
    "\n",
    "print(('It is ' + issignificant + ' that the value is {0:d}'.format(checkValue)))"
   ]
  },
  {
   "cell_type": "markdown",
   "metadata": {},
   "source": [
    "# 配对t检验"
   ]
  },
  {
   "cell_type": "code",
   "execution_count": 95,
   "metadata": {
    "ExecuteTime": {
     "end_time": "2019-08-14T05:35:38.078989Z",
     "start_time": "2019-08-14T05:35:38.070990Z"
    }
   },
   "outputs": [
    {
     "data": {
      "text/plain": [
       "array([ 0.57143516, -1.09097569,  1.53270697, -0.2126519 , -0.62058873,\n",
       "        0.98716294,  0.95958841, -0.5365235 ,  0.11569637, -2.14268495])"
      ]
     },
     "execution_count": 95,
     "metadata": {},
     "output_type": "execute_result"
    },
    {
     "data": {
      "text/plain": [
       "array([  5.75017862,   4.95973011,   4.76662064, -10.1062741 ,\n",
       "        -1.67038683,   0.01059182,   2.02726706,   1.4454597 ,\n",
       "         6.60579096,  -7.73452777])"
      ]
     },
     "execution_count": 95,
     "metadata": {},
     "output_type": "execute_result"
    },
    {
     "data": {
      "text/plain": [
       "array([  6.32161379,   3.86875442,   6.29932761, -10.318926  ,\n",
       "        -2.29097556,   0.99775476,   2.98685547,   0.9089362 ,\n",
       "         6.72148733,  -9.87721272])"
      ]
     },
     "execution_count": 95,
     "metadata": {},
     "output_type": "execute_result"
    }
   ],
   "source": [
    "np.random.seed(1234)\n",
    "data = np.random.randn(10) + 0.1\n",
    "data\n",
    "data1 = np.random.randn(10) * 5\n",
    "data1\n",
    "data2 = data + data1\n",
    "data2"
   ]
  },
  {
   "cell_type": "code",
   "execution_count": 98,
   "metadata": {
    "ExecuteTime": {
     "end_time": "2019-08-14T05:40:06.569916Z",
     "start_time": "2019-08-14T05:40:06.561920Z"
    }
   },
   "outputs": [
    {
     "data": {
      "text/plain": [
       "-0.12458492298731402"
      ]
     },
     "execution_count": 98,
     "metadata": {},
     "output_type": "execute_result"
    },
    {
     "data": {
      "text/plain": [
       "0.9035904508547085"
      ]
     },
     "execution_count": 98,
     "metadata": {},
     "output_type": "execute_result"
    }
   ],
   "source": [
    "t = st.t(len(data) - 1)\n",
    "tval = np.mean(data) / (np.std(data, ddof=1) / len(data) ** (1 / 2))\n",
    "tval\n",
    "t.cdf(tval) * 2"
   ]
  },
  {
   "cell_type": "code",
   "execution_count": 100,
   "metadata": {
    "ExecuteTime": {
     "end_time": "2019-08-14T05:53:15.582852Z",
     "start_time": "2019-08-14T05:53:15.575827Z"
    }
   },
   "outputs": [
    {
     "data": {
      "text/plain": [
       "-0.1245849229873135"
      ]
     },
     "execution_count": 100,
     "metadata": {},
     "output_type": "execute_result"
    },
    {
     "data": {
      "text/plain": [
       "0.9035904508547089"
      ]
     },
     "execution_count": 100,
     "metadata": {},
     "output_type": "execute_result"
    }
   ],
   "source": [
    "t = st.t(len(data) - 1)\n",
    "data_ = data2 - data1\n",
    "tval = np.mean(data_) / (np.std(data_, ddof=1) / len(data_) ** (1 / 2))\n",
    "tval\n",
    "t.cdf(tval) * 2"
   ]
  },
  {
   "cell_type": "markdown",
   "metadata": {},
   "source": [
    "# 独立组别之间的t检验"
   ]
  },
  {
   "cell_type": "code",
   "execution_count": 115,
   "metadata": {
    "ExecuteTime": {
     "end_time": "2019-08-15T05:50:13.785022Z",
     "start_time": "2019-08-15T05:50:13.690022Z"
    }
   },
   "outputs": [
    {
     "data": {
      "text/plain": [
       "[<matplotlib.lines.Line2D at 0x26df1153630>]"
      ]
     },
     "execution_count": 115,
     "metadata": {},
     "output_type": "execute_result"
    },
    {
     "data": {
      "image/png": "[encoded data removed]",
      "text/plain": [
       "<Figure size 432x288 with 1 Axes>"
      ]
     },
     "metadata": {
      "needs_background": "light"
     },
     "output_type": "display_data"
    }
   ],
   "source": [
    "x = np.linspace(-4, 6, 100)\n",
    "y = td.cdf(x)\n",
    "plt.plot(x, y)"
   ]
  },
  {
   "cell_type": "code",
   "execution_count": 105,
   "metadata": {
    "ExecuteTime": {
     "end_time": "2019-08-15T05:35:27.116048Z",
     "start_time": "2019-08-15T05:35:27.111046Z"
    }
   },
   "outputs": [
    {
     "data": {
      "text/plain": [
       "array([[9.21, 0.  ],\n",
       "       [7.53, 1.  ],\n",
       "       [7.48, 1.  ]])"
      ]
     },
     "execution_count": 105,
     "metadata": {},
     "output_type": "execute_result"
    }
   ],
   "source": [
    "data = np.loadtxt('./ISP/Code_Quantlets/08_TestsMeanValues/twoGroups/altman_94.txt',delimiter=',')\n",
    "data[:3]"
   ]
  },
  {
   "cell_type": "code",
   "execution_count": 118,
   "metadata": {
    "ExecuteTime": {
     "end_time": "2019-08-15T05:52:30.373557Z",
     "start_time": "2019-08-15T05:52:30.365558Z"
    }
   },
   "outputs": [
    {
     "data": {
      "text/plain": [
       "(9,)"
      ]
     },
     "execution_count": 118,
     "metadata": {},
     "output_type": "execute_result"
    },
    {
     "data": {
      "text/plain": [
       "(13,)"
      ]
     },
     "execution_count": 118,
     "metadata": {},
     "output_type": "execute_result"
    }
   ],
   "source": [
    "group1 = data[data[:, 1] == 0][:, 0]\n",
    "group1.shape\n",
    "group2 = data[data[:, 1] == 1][:, 0]\n",
    "group2.shape"
   ]
  },
  {
   "cell_type": "code",
   "execution_count": 132,
   "metadata": {
    "ExecuteTime": {
     "end_time": "2019-08-15T06:01:17.383216Z",
     "start_time": "2019-08-15T06:01:17.374212Z"
    }
   },
   "outputs": [
    {
     "data": {
      "text/plain": [
       "(9, 10.297777777777776, 1.954044444444444)"
      ]
     },
     "execution_count": 132,
     "metadata": {},
     "output_type": "execute_result"
    },
    {
     "data": {
      "text/plain": [
       "(13, 8.066153846153847, 1.5328423076923077)"
      ]
     },
     "execution_count": 132,
     "metadata": {},
     "output_type": "execute_result"
    }
   ],
   "source": [
    "g1_mean = np.mean(group1)\n",
    "g1_var = np.var(group1, ddof=1)\n",
    "g1_n = len(group1)\n",
    "g2_mean = np.mean(group2)\n",
    "g2_var = np.var(group2, ddof=1)\n",
    "g2_n = len(group2)\n",
    "g1_n, g1_mean, g1_var\n",
    "g2_n, g2_mean, g2_var\n"
   ]
  },
  {
   "cell_type": "code",
   "execution_count": 128,
   "metadata": {
    "ExecuteTime": {
     "end_time": "2019-08-15T05:57:19.911672Z",
     "start_time": "2019-08-15T05:57:19.907672Z"
    }
   },
   "outputs": [
    {
     "data": {
      "text/plain": [
       "(3.9455649161549835, 0.0007989982111700593)"
      ]
     },
     "execution_count": 128,
     "metadata": {},
     "output_type": "execute_result"
    }
   ],
   "source": [
    "t_statistic, p_value = st.ttest_ind(group1, group2)\n",
    "t_statistic, p_value"
   ]
  },
  {
   "cell_type": "code",
   "execution_count": null,
   "metadata": {},
   "outputs": [],
   "source": []
  }
 ],
 "metadata": {
  "hide_input": false,
  "kernelspec": {
   "display_name": "Python 3",
   "language": "python",
   "name": "python3"
  },
  "language_info": {
   "codemirror_mode": {
    "name": "ipython",
    "version": 3
   },
   "file_extension": ".py",
   "mimetype": "text/x-python",
   "name": "python",
   "nbconvert_exporter": "python",
   "pygments_lexer": "ipython3",
   "version": "3.7.3"
  },
  "nbTranslate": {
   "displayLangs": [
    "*"
   ],
   "hotkey": "alt-t",
   "langInMainMenu": true,
   "sourceLang": "en",
   "targetLang": "fr",
   "useGoogleTranslate": true
  },
  "toc": {
   "base_numbering": 1,
   "nav_menu": {},
   "number_sections": true,
   "sideBar": true,
   "skip_h1_title": false,
   "title_cell": "Table of Contents",
   "title_sidebar": "Contents",
   "toc_cell": false,
   "toc_position": {},
   "toc_section_display": true,
   "toc_window_display": true
  },
  "varInspector": {
   "cols": {
    "lenName": 16,
    "lenType": 16,
    "lenVar": 40
   },
   "kernels_config": {
    "python": {
     "delete_cmd_postfix": "",
     "delete_cmd_prefix": "del ",
     "library": "var_list.py",
     "varRefreshCmd": "print(var_dic_list())"
    },
    "r": {
     "delete_cmd_postfix": ") ",
     "delete_cmd_prefix": "rm(",
     "library": "var_list.r",
     "varRefreshCmd": "cat(var_dic_list()) "
    }
   },
   "types_to_exclude": [
    "module",
    "function",
    "builtin_function_or_method",
    "instance",
    "_Feature"
   ],
   "window_display": false
  }
 },
 "nbformat": 4,
 "nbformat_minor": 2
}
