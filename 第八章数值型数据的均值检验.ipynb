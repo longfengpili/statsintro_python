{
 "cells": [
  {
   "cell_type": "markdown",
   "metadata": {},
   "source": [
    "# t检验"
   ]
  },
  {
   "cell_type": "code",
   "execution_count": 1,
   "metadata": {
    "ExecuteTime": {
     "end_time": "2019-08-19T07:24:24.530499Z",
     "start_time": "2019-08-19T07:24:24.526501Z"
    }
   },
   "outputs": [],
   "source": [
    "from scipy import stats as st\n",
    "np.random.seed(12345)"
   ]
  },
  {
   "cell_type": "code",
   "execution_count": 2,
   "metadata": {
    "ExecuteTime": {
     "end_time": "2019-08-19T07:24:24.752506Z",
     "start_time": "2019-08-19T07:24:24.531500Z"
    }
   },
   "outputs": [
    {
     "data": {
      "text/plain": [
       "[<matplotlib.lines.Line2D at 0x24b115e62b0>]"
      ]
     },
     "execution_count": 2,
     "metadata": {},
     "output_type": "execute_result"
    },
    {
     "data": {
      "text/plain": [
       "[<matplotlib.lines.Line2D at 0x24b112fba58>]"
      ]
     },
     "execution_count": 2,
     "metadata": {},
     "output_type": "execute_result"
    },
    {
     "data": {
      "image/png": "[encoded data removed]",
      "text/plain": [
       "<Figure size 432x288 with 1 Axes>"
      ]
     },
     "metadata": {
      "needs_background": "light"
     },
     "output_type": "display_data"
    }
   ],
   "source": [
    "nd = st.norm(7, 3)\n",
    "x = np.linspace(0, 14, 100)\n",
    "y = nd.pdf(x)\n",
    "z = nd.cdf(x)\n",
    "plt.plot(x, y)\n",
    "plt.plot(x, z)"
   ]
  },
  {
   "cell_type": "code",
   "execution_count": 3,
   "metadata": {
    "ExecuteTime": {
     "end_time": "2019-08-19T07:24:24.763503Z",
     "start_time": "2019-08-19T07:24:24.754507Z"
    }
   },
   "outputs": [
    {
     "data": {
      "text/plain": [
       "array([6.38587702, 8.43683001, 5.44168385])"
      ]
     },
     "execution_count": 3,
     "metadata": {},
     "output_type": "execute_result"
    },
    {
     "data": {
      "text/plain": [
       "7.100843164626591"
      ]
     },
     "execution_count": 3,
     "metadata": {},
     "output_type": "execute_result"
    },
    {
     "data": {
      "text/plain": [
       "0.31208976207563466"
      ]
     },
     "execution_count": 3,
     "metadata": {},
     "output_type": "execute_result"
    }
   ],
   "source": [
    "data = nd.rvs(100)\n",
    "data[:3]\n",
    "np.mean(data)\n",
    "st.sem(data)"
   ]
  },
  {
   "cell_type": "code",
   "execution_count": 4,
   "metadata": {
    "ExecuteTime": {
     "end_time": "2019-08-19T07:24:24.773505Z",
     "start_time": "2019-08-19T07:24:24.764505Z"
    }
   },
   "outputs": [],
   "source": [
    "checkVal = 6.5"
   ]
  },
  {
   "cell_type": "code",
   "execution_count": 5,
   "metadata": {
    "ExecuteTime": {
     "end_time": "2019-08-19T07:24:24.821507Z",
     "start_time": "2019-08-19T07:24:24.774506Z"
    }
   },
   "outputs": [
    {
     "data": {
      "text/plain": [
       "1.9252254884316808"
      ]
     },
     "execution_count": 5,
     "metadata": {},
     "output_type": "execute_result"
    },
    {
     "data": {
      "text/plain": [
       "0.05707107880872914"
      ]
     },
     "execution_count": 5,
     "metadata": {},
     "output_type": "execute_result"
    }
   ],
   "source": [
    "t, tProb = st.ttest_1samp(data, checkVal)\n",
    "t\n",
    "tProb"
   ]
  },
  {
   "cell_type": "code",
   "execution_count": 6,
   "metadata": {
    "ExecuteTime": {
     "end_time": "2019-08-19T07:24:24.838538Z",
     "start_time": "2019-08-19T07:24:24.823507Z"
    }
   },
   "outputs": [
    {
     "data": {
      "text/plain": [
       "7.100843164626591"
      ]
     },
     "execution_count": 6,
     "metadata": {},
     "output_type": "execute_result"
    },
    {
     "data": {
      "text/plain": [
       "3.1208976207563466"
      ]
     },
     "execution_count": 6,
     "metadata": {},
     "output_type": "execute_result"
    },
    {
     "data": {
      "text/plain": [
       "0.05420115469007144"
      ]
     },
     "execution_count": 6,
     "metadata": {},
     "output_type": "execute_result"
    }
   ],
   "source": [
    "mmean = np.mean(data)\n",
    "mmean\n",
    "mstd = np.std(data, ddof=1)\n",
    "mstd\n",
    "normProb = st.norm.cdf(checkVal, loc=mmean,\n",
    "        scale=mstd/np.sqrt(len(data)))*2\n",
    "\n",
    "normProb"
   ]
  },
  {
   "cell_type": "code",
   "execution_count": 7,
   "metadata": {
    "ExecuteTime": {
     "end_time": "2019-08-19T07:24:24.847507Z",
     "start_time": "2019-08-19T07:24:24.840510Z"
    }
   },
   "outputs": [
    {
     "data": {
      "text/plain": [
       "-1.9225238149740722"
      ]
     },
     "execution_count": 7,
     "metadata": {},
     "output_type": "execute_result"
    }
   ],
   "source": [
    "tavl = (6.5 - 7.1) / st.sem(data,ddof=1)\n",
    "tavl"
   ]
  },
  {
   "cell_type": "code",
   "execution_count": 8,
   "metadata": {
    "ExecuteTime": {
     "end_time": "2019-08-19T07:24:24.862539Z",
     "start_time": "2019-08-19T07:24:24.849507Z"
    }
   },
   "outputs": [
    {
     "data": {
      "text/plain": [
       "0.0574141945131751"
      ]
     },
     "execution_count": 8,
     "metadata": {},
     "output_type": "execute_result"
    }
   ],
   "source": [
    "td = st.t(len(data) - 1)\n",
    "td.cdf(tavl) * 2"
   ]
  },
  {
   "cell_type": "code",
   "execution_count": 9,
   "metadata": {
    "ExecuteTime": {
     "end_time": "2019-08-19T07:24:24.877506Z",
     "start_time": "2019-08-19T07:24:24.863511Z"
    }
   },
   "outputs": [
    {
     "data": {
      "text/plain": [
       "0.05453987993447378"
      ]
     },
     "execution_count": 9,
     "metadata": {},
     "output_type": "execute_result"
    }
   ],
   "source": [
    "nd_ = st.norm()\n",
    "nd_.cdf(tavl) * 2"
   ]
  },
  {
   "cell_type": "code",
   "execution_count": 10,
   "metadata": {
    "ExecuteTime": {
     "end_time": "2019-08-19T07:24:24.892510Z",
     "start_time": "2019-08-19T07:24:24.878507Z"
    }
   },
   "outputs": [
    {
     "data": {
      "text/plain": [
       "0.31208976207563466"
      ]
     },
     "execution_count": 10,
     "metadata": {},
     "output_type": "execute_result"
    },
    {
     "data": {
      "text/plain": [
       "0.3120897620756347"
      ]
     },
     "execution_count": 10,
     "metadata": {},
     "output_type": "execute_result"
    }
   ],
   "source": [
    "st.sem(data,ddof=1)\n",
    "np.std(data) / (99 ** (1/2))"
   ]
  },
  {
   "cell_type": "markdown",
   "metadata": {},
   "source": [
    "# wilcoxon符号秩和检验"
   ]
  },
  {
   "cell_type": "code",
   "execution_count": 11,
   "metadata": {
    "ExecuteTime": {
     "end_time": "2019-08-19T07:24:24.907507Z",
     "start_time": "2019-08-19T07:24:24.893509Z"
    }
   },
   "outputs": [
    {
     "data": {
      "text/plain": [
       "array([5260., 5470., 5640., 6180., 6390., 6515., 6805., 7515., 7515.,\n",
       "       8230., 8770.])"
      ]
     },
     "execution_count": 11,
     "metadata": {},
     "output_type": "execute_result"
    }
   ],
   "source": [
    "data = np.loadtxt('./ISP/Code_Quantlets/08_TestsMeanValues/oneGroup/altman_91.txt')\n",
    "data"
   ]
  },
  {
   "cell_type": "code",
   "execution_count": 12,
   "metadata": {
    "ExecuteTime": {
     "end_time": "2019-08-19T07:24:24.919538Z",
     "start_time": "2019-08-19T07:24:24.908508Z"
    }
   },
   "outputs": [
    {
     "data": {
      "text/plain": [
       "-2.82075406083102"
      ]
     },
     "execution_count": 12,
     "metadata": {},
     "output_type": "execute_result"
    }
   ],
   "source": [
    "td = st.t(len(data) - 1)\n",
    "t_ = (np.mean(data) - 7725)/ (np.std(data) / ((len(data) - 1)) ** (1 / 2))\n",
    "t_"
   ]
  },
  {
   "cell_type": "code",
   "execution_count": 13,
   "metadata": {
    "ExecuteTime": {
     "end_time": "2019-08-19T07:24:24.933509Z",
     "start_time": "2019-08-19T07:24:24.921538Z"
    }
   },
   "outputs": [
    {
     "data": {
      "text/plain": [
       "0.018137235176105784"
      ]
     },
     "execution_count": 13,
     "metadata": {},
     "output_type": "execute_result"
    }
   ],
   "source": [
    "td.cdf(t_) * 2"
   ]
  },
  {
   "cell_type": "code",
   "execution_count": 14,
   "metadata": {
    "ExecuteTime": {
     "end_time": "2019-08-19T07:24:24.947531Z",
     "start_time": "2019-08-19T07:24:24.934511Z"
    }
   },
   "outputs": [
    {
     "data": {
      "text/plain": [
       "WilcoxonResult(statistic=8.0, pvalue=0.026157182329284684)"
      ]
     },
     "execution_count": 14,
     "metadata": {},
     "output_type": "execute_result"
    }
   ],
   "source": [
    "st.wilcoxon(data - 7725)"
   ]
  },
  {
   "cell_type": "code",
   "execution_count": 15,
   "metadata": {
    "ExecuteTime": {
     "end_time": "2019-08-19T07:24:25.034512Z",
     "start_time": "2019-08-19T07:24:24.948510Z"
    }
   },
   "outputs": [
    {
     "name": "stdout",
     "output_type": "stream",
     "text": [
      "Mean and SD: 6753.64 and 1142.12\n",
      "The confidence intervals are 5986.35 to 7520.93.\n",
      "7725.00 is significantly different from the mean (p=0.018).\n"
     ]
    },
    {
     "data": {
      "text/plain": [
       "(8.0, 0.026157182329284684)"
      ]
     },
     "execution_count": 15,
     "metadata": {},
     "output_type": "execute_result"
    },
    {
     "name": "stdout",
     "output_type": "stream",
     "text": [
      "It is unlikely that the value is 7725\n"
     ]
    }
   ],
   "source": [
    "from scipy import stats\n",
    "myMean = np.mean(data)\n",
    "mySD = np.std(data, ddof=1)     # sample standard deviation\n",
    "print(('Mean and SD: {0:4.2f} and {1:4.2f}'.format(myMean, mySD)))\n",
    "\n",
    "# Confidence intervals\n",
    "tf = stats.t(len(data)-1)\n",
    "# multiplication with np.array[-1,1] is a neat trick to implement \"+/-\"\n",
    "ci = np.mean(data) + stats.sem(data)*np.array([-1,1])*tf.ppf(0.975)\n",
    "print(('The confidence intervals are {0:4.2f} to {1:4.2f}.'.format(ci[0], ci[1])))\n",
    "\n",
    "# Check if there is a significant difference relative to \"checkValue\"\n",
    "checkValue = 7725\n",
    "# --- >>> START stats <<< ---\n",
    "t, prob = stats.ttest_1samp(data, checkValue)\n",
    "if prob < 0.05:\n",
    "    print(('{0:4.2f} is significantly different from the mean (p={1:5.3f}).'.format(checkValue, prob)))\n",
    "\n",
    "# For not normally distributed data, use the Wilcoxon signed rank sum test\n",
    "(rank, pVal) = stats.wilcoxon(data-checkValue)\n",
    "(rank, pVal)\n",
    "if pVal < 0.05:\n",
    "  issignificant = 'unlikely'\n",
    "else:\n",
    "  issignificant = 'likely'\n",
    "# --- >>> STOP stats <<< ---\n",
    "\n",
    "print(('It is ' + issignificant + ' that the value is {0:d}'.format(checkValue)))"
   ]
  },
  {
   "cell_type": "markdown",
   "metadata": {},
   "source": [
    "# 配对t检验"
   ]
  },
  {
   "cell_type": "code",
   "execution_count": 16,
   "metadata": {
    "ExecuteTime": {
     "end_time": "2019-08-19T07:24:25.046511Z",
     "start_time": "2019-08-19T07:24:25.036512Z"
    }
   },
   "outputs": [
    {
     "data": {
      "text/plain": [
       "array([ 0.57143516, -1.09097569,  1.53270697, -0.2126519 , -0.62058873,\n",
       "        0.98716294,  0.95958841, -0.5365235 ,  0.11569637, -2.14268495])"
      ]
     },
     "execution_count": 16,
     "metadata": {},
     "output_type": "execute_result"
    },
    {
     "data": {
      "text/plain": [
       "array([  5.75017862,   4.95973011,   4.76662064, -10.1062741 ,\n",
       "        -1.67038683,   0.01059182,   2.02726706,   1.4454597 ,\n",
       "         6.60579096,  -7.73452777])"
      ]
     },
     "execution_count": 16,
     "metadata": {},
     "output_type": "execute_result"
    },
    {
     "data": {
      "text/plain": [
       "array([  6.32161379,   3.86875442,   6.29932761, -10.318926  ,\n",
       "        -2.29097556,   0.99775476,   2.98685547,   0.9089362 ,\n",
       "         6.72148733,  -9.87721272])"
      ]
     },
     "execution_count": 16,
     "metadata": {},
     "output_type": "execute_result"
    }
   ],
   "source": [
    "np.random.seed(1234)\n",
    "data = np.random.randn(10) + 0.1\n",
    "data\n",
    "data1 = np.random.randn(10) * 5\n",
    "data1\n",
    "data2 = data + data1\n",
    "data2"
   ]
  },
  {
   "cell_type": "code",
   "execution_count": 17,
   "metadata": {
    "ExecuteTime": {
     "end_time": "2019-08-19T07:24:25.060515Z",
     "start_time": "2019-08-19T07:24:25.048512Z"
    }
   },
   "outputs": [
    {
     "data": {
      "text/plain": [
       "-0.12458492298731402"
      ]
     },
     "execution_count": 17,
     "metadata": {},
     "output_type": "execute_result"
    },
    {
     "data": {
      "text/plain": [
       "0.9035904508547085"
      ]
     },
     "execution_count": 17,
     "metadata": {},
     "output_type": "execute_result"
    }
   ],
   "source": [
    "t = st.t(len(data) - 1)\n",
    "tval = np.mean(data) / (np.std(data, ddof=1) / len(data) ** (1 / 2))\n",
    "tval\n",
    "t.cdf(tval) * 2"
   ]
  },
  {
   "cell_type": "code",
   "execution_count": 18,
   "metadata": {
    "ExecuteTime": {
     "end_time": "2019-08-19T07:24:25.074513Z",
     "start_time": "2019-08-19T07:24:25.061514Z"
    }
   },
   "outputs": [
    {
     "data": {
      "text/plain": [
       "(-0.1245849229873135, 0.9035904508547089)"
      ]
     },
     "execution_count": 18,
     "metadata": {},
     "output_type": "execute_result"
    }
   ],
   "source": [
    "t_statistic, p_value = stats.ttest_rel(data2, data1)\n",
    "t_statistic, p_value"
   ]
  },
  {
   "cell_type": "markdown",
   "metadata": {},
   "source": [
    "# 独立组别之间的t检验"
   ]
  },
  {
   "cell_type": "markdown",
   "metadata": {},
   "source": [
    "+ 独立组别之间满足$t(n_1+n_2-2)$的分布  \n",
    "+ t值\n",
    "$$\n",
    "t=\\frac{\\overline{X}_{1}-\\overline{X}_{2}}{\\sqrt{S_{C}^{2}\\left(\\frac{1}{n_{1}}+\\frac{1}{n_{2}}\\right)}}=\\frac{\\overline{X}_{1}-\\overline{X}_{2}}{\\sqrt{\\frac{\\left(n_{1}-1\\right) S_{1}^{2}+\\left(n_{2}-1\\right) S_{2}^{2}}{n_{1}+n_{2}-2}\\left(\\frac{1}{n_{1}}+\\frac{1}{n_{2}}\\right)}}\n",
    "$$"
   ]
  },
  {
   "cell_type": "code",
   "execution_count": 19,
   "metadata": {
    "ExecuteTime": {
     "end_time": "2019-08-19T07:24:25.197515Z",
     "start_time": "2019-08-19T07:24:25.076514Z"
    }
   },
   "outputs": [
    {
     "data": {
      "text/plain": [
       "[<matplotlib.lines.Line2D at 0x24b12681e48>]"
      ]
     },
     "execution_count": 19,
     "metadata": {},
     "output_type": "execute_result"
    },
    {
     "data": {
      "image/png": "[encoded data removed]",
      "text/plain": [
       "<Figure size 432x288 with 1 Axes>"
      ]
     },
     "metadata": {
      "needs_background": "light"
     },
     "output_type": "display_data"
    }
   ],
   "source": [
    "x = np.linspace(-4, 6, 100)\n",
    "y = td.cdf(x)\n",
    "plt.plot(x, y)"
   ]
  },
  {
   "cell_type": "code",
   "execution_count": 20,
   "metadata": {
    "ExecuteTime": {
     "end_time": "2019-08-19T07:24:25.203516Z",
     "start_time": "2019-08-19T07:24:25.198513Z"
    }
   },
   "outputs": [
    {
     "data": {
      "text/plain": [
       "array([[9.21, 0.  ],\n",
       "       [7.53, 1.  ],\n",
       "       [7.48, 1.  ]])"
      ]
     },
     "execution_count": 20,
     "metadata": {},
     "output_type": "execute_result"
    }
   ],
   "source": [
    "data = np.loadtxt('./ISP/Code_Quantlets/08_TestsMeanValues/twoGroups/altman_94.txt',delimiter=',')\n",
    "data[:3]"
   ]
  },
  {
   "cell_type": "code",
   "execution_count": 21,
   "metadata": {
    "ExecuteTime": {
     "end_time": "2019-08-19T07:24:25.218516Z",
     "start_time": "2019-08-19T07:24:25.207514Z"
    }
   },
   "outputs": [
    {
     "data": {
      "text/plain": [
       "(9,)"
      ]
     },
     "execution_count": 21,
     "metadata": {},
     "output_type": "execute_result"
    },
    {
     "data": {
      "text/plain": [
       "(13,)"
      ]
     },
     "execution_count": 21,
     "metadata": {},
     "output_type": "execute_result"
    }
   ],
   "source": [
    "group1 = data[data[:, 1] == 0][:, 0]\n",
    "group1.shape\n",
    "group2 = data[data[:, 1] == 1][:, 0]\n",
    "group2.shape"
   ]
  },
  {
   "cell_type": "code",
   "execution_count": 22,
   "metadata": {
    "ExecuteTime": {
     "end_time": "2019-08-19T07:24:25.231515Z",
     "start_time": "2019-08-19T07:24:25.221516Z"
    }
   },
   "outputs": [
    {
     "data": {
      "text/plain": [
       "(9, 10.297777777777776, 1.954044444444444)"
      ]
     },
     "execution_count": 22,
     "metadata": {},
     "output_type": "execute_result"
    },
    {
     "data": {
      "text/plain": [
       "(13, 8.066153846153847, 1.5328423076923077)"
      ]
     },
     "execution_count": 22,
     "metadata": {},
     "output_type": "execute_result"
    }
   ],
   "source": [
    "g1_mean = np.mean(group1)\n",
    "g1_var = np.var(group1, ddof=1)\n",
    "g1_n = len(group1)\n",
    "g2_mean = np.mean(group2)\n",
    "g2_var = np.var(group2, ddof=1)\n",
    "g2_n = len(group2)\n",
    "g1_n, g1_mean, g1_var\n",
    "g2_n, g2_mean, g2_var\n"
   ]
  },
  {
   "cell_type": "code",
   "execution_count": 23,
   "metadata": {
    "ExecuteTime": {
     "end_time": "2019-08-19T07:24:25.411520Z",
     "start_time": "2019-08-19T07:24:25.232516Z"
    }
   },
   "outputs": [
    {
     "data": {
      "text/plain": [
       "[<matplotlib.lines.Line2D at 0x24b127041d0>]"
      ]
     },
     "execution_count": 23,
     "metadata": {},
     "output_type": "execute_result"
    },
    {
     "data": {
      "text/plain": [
       "[<matplotlib.lines.Line2D at 0x24b1269d048>]"
      ]
     },
     "execution_count": 23,
     "metadata": {},
     "output_type": "execute_result"
    },
    {
     "data": {
      "text/plain": [
       "[<matplotlib.lines.Line2D at 0x24b12704320>]"
      ]
     },
     "execution_count": 23,
     "metadata": {},
     "output_type": "execute_result"
    },
    {
     "data": {
      "text/plain": [
       "<matplotlib.legend.Legend at 0x24b12704588>"
      ]
     },
     "execution_count": 23,
     "metadata": {},
     "output_type": "execute_result"
    },
    {
     "data": {
      "image/png": "[encoded data removed]",
      "text/plain": [
       "<Figure size 432x288 with 1 Axes>"
      ]
     },
     "metadata": {
      "needs_background": "light"
     },
     "output_type": "display_data"
    }
   ],
   "source": [
    "td = st.t(g1_n + g2_n - 2)\n",
    "x = np.linspace(-4, 4, 100)\n",
    "y1 = td.pdf(x) #概率密度函数 \n",
    "y2 = td.cdf(x) #累计分布函数\n",
    "y3 = td.sf(x) #生存函数\n",
    "y4 = td.ppf(x) #百分点函数\n",
    "y5 = td.isf(x) #逆生存函数\n",
    "plt.plot(x, y1, label='pdf')\n",
    "plt.plot(x, y2, label='cdf')\n",
    "plt.plot(x, y3, label='sf')\n",
    "plt.legend()"
   ]
  },
  {
   "cell_type": "code",
   "execution_count": 24,
   "metadata": {
    "ExecuteTime": {
     "end_time": "2019-08-19T07:24:25.421519Z",
     "start_time": "2019-08-19T07:24:25.412520Z"
    }
   },
   "outputs": [
    {
     "data": {
      "text/plain": [
       "3.9455649161549835"
      ]
     },
     "execution_count": 24,
     "metadata": {},
     "output_type": "execute_result"
    },
    {
     "data": {
      "text/plain": [
       "0.0007989982111700593"
      ]
     },
     "execution_count": 24,
     "metadata": {},
     "output_type": "execute_result"
    }
   ],
   "source": [
    "tval = (g1_mean - g2_mean) / (((g1_n - 1) * g1_var + (g2_n - 1) * g2_var) / (g1_n + g2_n - 2) * (1 / g1_n + 1 / g2_n)) ** (1 / 2)\n",
    "tval\n",
    "td.sf(tval) * 2"
   ]
  },
  {
   "cell_type": "code",
   "execution_count": 25,
   "metadata": {
    "ExecuteTime": {
     "end_time": "2019-08-19T07:24:25.434519Z",
     "start_time": "2019-08-19T07:24:25.422520Z"
    }
   },
   "outputs": [
    {
     "data": {
      "text/plain": [
       "(3.9455649161549835, 0.0007989982111700593)"
      ]
     },
     "execution_count": 25,
     "metadata": {},
     "output_type": "execute_result"
    }
   ],
   "source": [
    "t_statistic, p_value = st.ttest_ind(group1, group2)\n",
    "t_statistic, p_value"
   ]
  },
  {
   "cell_type": "markdown",
   "metadata": {},
   "source": [
    "# 两组之间的非参数比较"
   ]
  },
  {
   "cell_type": "code",
   "execution_count": 26,
   "metadata": {
    "ExecuteTime": {
     "end_time": "2019-08-19T07:24:25.580523Z",
     "start_time": "2019-08-19T07:24:25.436521Z"
    }
   },
   "outputs": [
    {
     "data": {
      "text/plain": [
       "'1.3.0'"
      ]
     },
     "execution_count": 26,
     "metadata": {},
     "output_type": "execute_result"
    },
    {
     "name": "stdout",
     "output_type": "stream",
     "text": [
      "('Mann-Whitney test', 0.002121613385880049)\n"
     ]
    },
    {
     "data": {
      "text/plain": [
       "[<matplotlib.lines.Line2D at 0x24b12788668>]"
      ]
     },
     "execution_count": 26,
     "metadata": {},
     "output_type": "execute_result"
    },
    {
     "data": {
      "text/plain": [
       "[<matplotlib.lines.Line2D at 0x24b126b8e80>]"
      ]
     },
     "execution_count": 26,
     "metadata": {},
     "output_type": "execute_result"
    },
    {
     "data": {
      "text/plain": [
       "<matplotlib.legend.Legend at 0x24b1269d518>"
      ]
     },
     "execution_count": 26,
     "metadata": {},
     "output_type": "execute_result"
    },
    {
     "data": {
      "image/png": "[encoded data removed]",
      "text/plain": [
       "<Figure size 432x288 with 1 Axes>"
      ]
     },
     "metadata": {
      "needs_background": "light"
     },
     "output_type": "display_data"
    }
   ],
   "source": [
    "import scipy as sp\n",
    "sp.__version__\n",
    "if np.int(sp.__version__.split('.')[1]) > 16:\n",
    "    u, p_value = stats.mannwhitneyu(group1, group2, alternative='two-sided')\n",
    "else:\n",
    "    u, p_value = stats.mannwhitneyu(group1, group2, use_continuity=True)\n",
    "    p_value *= 2    # because the default was a one-sided p-value\n",
    "\n",
    "print((\"Mann-Whitney test\", p_value))\n",
    "# --- >>> STOP stats <<< ---\n",
    "\n",
    "# Plot the data\n",
    "plt.plot(group1, 'bx', label='obese')\n",
    "# plt.hold(True)\n",
    "plt.plot(group2, 'ro', label='lean')\n",
    "plt.legend(loc=0)\n",
    "plt.show()"
   ]
  },
  {
   "cell_type": "markdown",
   "metadata": {},
   "source": [
    "# 统计学假设检验与统计学建模"
   ]
  },
  {
   "cell_type": "markdown",
   "metadata": {},
   "source": [
    "## 经典t检验"
   ]
  },
  {
   "cell_type": "code",
   "execution_count": 27,
   "metadata": {
    "ExecuteTime": {
     "end_time": "2019-08-19T07:24:25.592525Z",
     "start_time": "2019-08-19T07:24:25.582526Z"
    }
   },
   "outputs": [
    {
     "data": {
      "text/plain": [
       "array([ 97.,  93.,  92.,  96.,  97.,  94., 100.,  97.,  95.,  94.,  93.,\n",
       "        97.,  94.,  91.,  94.,  97.,  92.,  92.,  95.,  95.])"
      ]
     },
     "execution_count": 27,
     "metadata": {},
     "output_type": "execute_result"
    },
    {
     "data": {
      "text/plain": [
       "array([91., 93., 92., 91., 92., 88., 89., 87., 88., 91., 86., 89., 89.,\n",
       "       90., 89., 88., 89., 94., 94., 90.])"
      ]
     },
     "execution_count": 27,
     "metadata": {},
     "output_type": "execute_result"
    },
    {
     "data": {
      "text/plain": [
       "(6.056330934239536, 7.96883264940563e-06)"
      ]
     },
     "execution_count": 27,
     "metadata": {},
     "output_type": "execute_result"
    }
   ],
   "source": [
    "np.random.seed(123)\n",
    "race_1 = np.round(np.random.rand(20) * 10 + 90)\n",
    "race_2 = np.round(np.random.rand(20) * 10 + 85)\n",
    "race_1\n",
    "race_2\n",
    "tval, p = st.ttest_rel(race_1, race_2) #配对样本t检验\n",
    "tval, p"
   ]
  },
  {
   "cell_type": "markdown",
   "metadata": {},
   "source": [
    "## 统计学建模"
   ]
  },
  {
   "cell_type": "code",
   "execution_count": 29,
   "metadata": {
    "ExecuteTime": {
     "end_time": "2019-08-20T05:28:27.941837Z",
     "start_time": "2019-08-20T05:28:27.929811Z"
    }
   },
   "outputs": [
    {
     "data": {
      "text/html": [
       "<div>\n",
       "<style scoped>\n",
       "    .dataframe tbody tr th:only-of-type {\n",
       "        vertical-align: middle;\n",
       "    }\n",
       "\n",
       "    .dataframe tbody tr th {\n",
       "        vertical-align: top;\n",
       "    }\n",
       "\n",
       "    .dataframe thead th {\n",
       "        text-align: right;\n",
       "    }\n",
       "</style>\n",
       "<table border=\"1\" class=\"dataframe\">\n",
       "  <thead>\n",
       "    <tr style=\"text-align: right;\">\n",
       "      <th></th>\n",
       "      <th>race1</th>\n",
       "      <th>race2</th>\n",
       "    </tr>\n",
       "  </thead>\n",
       "  <tbody>\n",
       "    <tr>\n",
       "      <th>0</th>\n",
       "      <td>97.0</td>\n",
       "      <td>91.0</td>\n",
       "    </tr>\n",
       "    <tr>\n",
       "      <th>1</th>\n",
       "      <td>93.0</td>\n",
       "      <td>93.0</td>\n",
       "    </tr>\n",
       "    <tr>\n",
       "      <th>2</th>\n",
       "      <td>92.0</td>\n",
       "      <td>92.0</td>\n",
       "    </tr>\n",
       "    <tr>\n",
       "      <th>3</th>\n",
       "      <td>96.0</td>\n",
       "      <td>91.0</td>\n",
       "    </tr>\n",
       "    <tr>\n",
       "      <th>4</th>\n",
       "      <td>97.0</td>\n",
       "      <td>92.0</td>\n",
       "    </tr>\n",
       "    <tr>\n",
       "      <th>5</th>\n",
       "      <td>94.0</td>\n",
       "      <td>88.0</td>\n",
       "    </tr>\n",
       "    <tr>\n",
       "      <th>6</th>\n",
       "      <td>100.0</td>\n",
       "      <td>89.0</td>\n",
       "    </tr>\n",
       "    <tr>\n",
       "      <th>7</th>\n",
       "      <td>97.0</td>\n",
       "      <td>87.0</td>\n",
       "    </tr>\n",
       "    <tr>\n",
       "      <th>8</th>\n",
       "      <td>95.0</td>\n",
       "      <td>88.0</td>\n",
       "    </tr>\n",
       "    <tr>\n",
       "      <th>9</th>\n",
       "      <td>94.0</td>\n",
       "      <td>91.0</td>\n",
       "    </tr>\n",
       "    <tr>\n",
       "      <th>10</th>\n",
       "      <td>93.0</td>\n",
       "      <td>86.0</td>\n",
       "    </tr>\n",
       "    <tr>\n",
       "      <th>11</th>\n",
       "      <td>97.0</td>\n",
       "      <td>89.0</td>\n",
       "    </tr>\n",
       "    <tr>\n",
       "      <th>12</th>\n",
       "      <td>94.0</td>\n",
       "      <td>89.0</td>\n",
       "    </tr>\n",
       "    <tr>\n",
       "      <th>13</th>\n",
       "      <td>91.0</td>\n",
       "      <td>90.0</td>\n",
       "    </tr>\n",
       "    <tr>\n",
       "      <th>14</th>\n",
       "      <td>94.0</td>\n",
       "      <td>89.0</td>\n",
       "    </tr>\n",
       "    <tr>\n",
       "      <th>15</th>\n",
       "      <td>97.0</td>\n",
       "      <td>88.0</td>\n",
       "    </tr>\n",
       "    <tr>\n",
       "      <th>16</th>\n",
       "      <td>92.0</td>\n",
       "      <td>89.0</td>\n",
       "    </tr>\n",
       "    <tr>\n",
       "      <th>17</th>\n",
       "      <td>92.0</td>\n",
       "      <td>94.0</td>\n",
       "    </tr>\n",
       "    <tr>\n",
       "      <th>18</th>\n",
       "      <td>95.0</td>\n",
       "      <td>94.0</td>\n",
       "    </tr>\n",
       "    <tr>\n",
       "      <th>19</th>\n",
       "      <td>95.0</td>\n",
       "      <td>90.0</td>\n",
       "    </tr>\n",
       "  </tbody>\n",
       "</table>\n",
       "</div>"
      ],
      "text/plain": [
       "    race1  race2\n",
       "0    97.0   91.0\n",
       "1    93.0   93.0\n",
       "2    92.0   92.0\n",
       "3    96.0   91.0\n",
       "4    97.0   92.0\n",
       "5    94.0   88.0\n",
       "6   100.0   89.0\n",
       "7    97.0   87.0\n",
       "8    95.0   88.0\n",
       "9    94.0   91.0\n",
       "10   93.0   86.0\n",
       "11   97.0   89.0\n",
       "12   94.0   89.0\n",
       "13   91.0   90.0\n",
       "14   94.0   89.0\n",
       "15   97.0   88.0\n",
       "16   92.0   89.0\n",
       "17   92.0   94.0\n",
       "18   95.0   94.0\n",
       "19   95.0   90.0"
      ]
     },
     "execution_count": 29,
     "metadata": {},
     "output_type": "execute_result"
    }
   ],
   "source": [
    "import statsmodels.formula.api as sm\n",
    "df = DataFrame({'race1': race_1, 'race2': race_2})\n",
    "df"
   ]
  },
  {
   "cell_type": "code",
   "execution_count": 30,
   "metadata": {
    "ExecuteTime": {
     "end_time": "2019-08-20T05:29:45.313062Z",
     "start_time": "2019-08-20T05:29:45.289068Z"
    }
   },
   "outputs": [
    {
     "name": "stderr",
     "output_type": "stream",
     "text": [
      "D:\\ProgramData\\Anaconda3\\envs\\normal\\lib\\site-packages\\statsmodels\\regression\\linear_model.py:1657: RuntimeWarning: invalid value encountered in double_scalars\n",
      "  return self.ess/self.df_model\n",
      "D:\\ProgramData\\Anaconda3\\envs\\normal\\lib\\site-packages\\scipy\\stats\\_distn_infrastructure.py:901: RuntimeWarning: invalid value encountered in greater\n",
      "  return (a < x) & (x < b)\n",
      "D:\\ProgramData\\Anaconda3\\envs\\normal\\lib\\site-packages\\scipy\\stats\\_distn_infrastructure.py:901: RuntimeWarning: invalid value encountered in less\n",
      "  return (a < x) & (x < b)\n",
      "D:\\ProgramData\\Anaconda3\\envs\\normal\\lib\\site-packages\\scipy\\stats\\_distn_infrastructure.py:1892: RuntimeWarning: invalid value encountered in less_equal\n",
      "  cond2 = cond0 & (x <= _a)\n"
     ]
    },
    {
     "data": {
      "text/html": [
       "<table class=\"simpletable\">\n",
       "<caption>OLS Regression Results</caption>\n",
       "<tr>\n",
       "  <th>Dep. Variable:</th>    <td>I(race2 - race1)</td> <th>  R-squared:         </th> <td>   0.000</td>\n",
       "</tr>\n",
       "<tr>\n",
       "  <th>Model:</th>                   <td>OLS</td>       <th>  Adj. R-squared:    </th> <td>   0.000</td>\n",
       "</tr>\n",
       "<tr>\n",
       "  <th>Method:</th>             <td>Least Squares</td>  <th>  F-statistic:       </th> <td>     nan</td>\n",
       "</tr>\n",
       "<tr>\n",
       "  <th>Date:</th>             <td>Tue, 20 Aug 2019</td> <th>  Prob (F-statistic):</th>  <td>   nan</td> \n",
       "</tr>\n",
       "<tr>\n",
       "  <th>Time:</th>                 <td>13:29:45</td>     <th>  Log-Likelihood:    </th> <td> -52.964</td>\n",
       "</tr>\n",
       "<tr>\n",
       "  <th>No. Observations:</th>      <td>    20</td>      <th>  AIC:               </th> <td>   107.9</td>\n",
       "</tr>\n",
       "<tr>\n",
       "  <th>Df Residuals:</th>          <td>    19</td>      <th>  BIC:               </th> <td>   108.9</td>\n",
       "</tr>\n",
       "<tr>\n",
       "  <th>Df Model:</th>              <td>     0</td>      <th>                     </th>     <td> </td>   \n",
       "</tr>\n",
       "<tr>\n",
       "  <th>Covariance Type:</th>      <td>nonrobust</td>    <th>                     </th>     <td> </td>   \n",
       "</tr>\n",
       "</table>\n",
       "<table class=\"simpletable\">\n",
       "<tr>\n",
       "      <td></td>         <th>coef</th>     <th>std err</th>      <th>t</th>      <th>P>|t|</th>  <th>[0.025</th>    <th>0.975]</th>  \n",
       "</tr>\n",
       "<tr>\n",
       "  <th>Intercept</th> <td>   -4.7500</td> <td>    0.784</td> <td>   -6.056</td> <td> 0.000</td> <td>   -6.392</td> <td>   -3.108</td>\n",
       "</tr>\n",
       "</table>\n",
       "<table class=\"simpletable\">\n",
       "<tr>\n",
       "  <th>Omnibus:</th>       <td> 0.302</td> <th>  Durbin-Watson:     </th> <td>   1.168</td>\n",
       "</tr>\n",
       "<tr>\n",
       "  <th>Prob(Omnibus):</th> <td> 0.860</td> <th>  Jarque-Bera (JB):  </th> <td>   0.471</td>\n",
       "</tr>\n",
       "<tr>\n",
       "  <th>Skew:</th>          <td> 0.139</td> <th>  Prob(JB):          </th> <td>   0.790</td>\n",
       "</tr>\n",
       "<tr>\n",
       "  <th>Kurtosis:</th>      <td> 2.302</td> <th>  Cond. No.          </th> <td>    1.00</td>\n",
       "</tr>\n",
       "</table><br/><br/>Warnings:<br/>[1] Standard Errors assume that the covariance matrix of the errors is correctly specified."
      ],
      "text/plain": [
       "<class 'statsmodels.iolib.summary.Summary'>\n",
       "\"\"\"\n",
       "                            OLS Regression Results                            \n",
       "==============================================================================\n",
       "Dep. Variable:       I(race2 - race1)   R-squared:                       0.000\n",
       "Model:                            OLS   Adj. R-squared:                  0.000\n",
       "Method:                 Least Squares   F-statistic:                       nan\n",
       "Date:                Tue, 20 Aug 2019   Prob (F-statistic):                nan\n",
       "Time:                        13:29:45   Log-Likelihood:                -52.964\n",
       "No. Observations:                  20   AIC:                             107.9\n",
       "Df Residuals:                      19   BIC:                             108.9\n",
       "Df Model:                           0                                         \n",
       "Covariance Type:            nonrobust                                         \n",
       "==============================================================================\n",
       "                 coef    std err          t      P>|t|      [0.025      0.975]\n",
       "------------------------------------------------------------------------------\n",
       "Intercept     -4.7500      0.784     -6.056      0.000      -6.392      -3.108\n",
       "==============================================================================\n",
       "Omnibus:                        0.302   Durbin-Watson:                   1.168\n",
       "Prob(Omnibus):                  0.860   Jarque-Bera (JB):                0.471\n",
       "Skew:                           0.139   Prob(JB):                        0.790\n",
       "Kurtosis:                       2.302   Cond. No.                         1.00\n",
       "==============================================================================\n",
       "\n",
       "Warnings:\n",
       "[1] Standard Errors assume that the covariance matrix of the errors is correctly specified.\n",
       "\"\"\""
      ]
     },
     "execution_count": 30,
     "metadata": {},
     "output_type": "execute_result"
    }
   ],
   "source": [
    "result = sm.ols(formula='I(race2-race1) ~ 1', data=df).fit()\n",
    "result.summary()"
   ]
  },
  {
   "cell_type": "markdown",
   "metadata": {},
   "source": [
    "# 多组比较"
   ]
  },
  {
   "cell_type": "markdown",
   "metadata": {},
   "source": [
    "## 单因素方差分析（ANOVA）"
   ]
  },
  {
   "cell_type": "markdown",
   "metadata": {},
   "source": [
    "### 1"
   ]
  },
  {
   "cell_type": "code",
   "execution_count": 38,
   "metadata": {
    "ExecuteTime": {
     "end_time": "2019-08-20T05:45:19.869455Z",
     "start_time": "2019-08-20T05:45:19.865434Z"
    }
   },
   "outputs": [],
   "source": [
    "# additional packages\n",
    "from statsmodels.formula.api import ols\n",
    "from statsmodels.stats.anova import anova_lm"
   ]
  },
  {
   "cell_type": "code",
   "execution_count": 32,
   "metadata": {
    "ExecuteTime": {
     "end_time": "2019-08-20T05:38:42.862433Z",
     "start_time": "2019-08-20T05:38:42.852435Z"
    }
   },
   "outputs": [
    {
     "data": {
      "text/plain": [
       "array([243., 251., 275., 291., 347., 354., 380., 392.])"
      ]
     },
     "execution_count": 32,
     "metadata": {},
     "output_type": "execute_result"
    },
    {
     "data": {
      "text/plain": [
       "array([206., 210., 226., 249., 255., 273., 285., 295., 309.])"
      ]
     },
     "execution_count": 32,
     "metadata": {},
     "output_type": "execute_result"
    },
    {
     "data": {
      "text/plain": [
       "array([241., 258., 270., 293., 328.])"
      ]
     },
     "execution_count": 32,
     "metadata": {},
     "output_type": "execute_result"
    }
   ],
   "source": [
    "inFile = './ISP/Code_Quantlets/08_TestsMeanValues/anovaOneway/altman_910.txt'\n",
    "data = np.genfromtxt(inFile, delimiter=',')\n",
    "\n",
    "# Sort them into groups, according to column 1\n",
    "group1 = data[data[:,1]==1,0]\n",
    "group2 = data[data[:,1]==2,0]\n",
    "group3 = data[data[:,1]==3,0]\n",
    "\n",
    "group1\n",
    "group2\n",
    "group3"
   ]
  },
  {
   "cell_type": "code",
   "execution_count": 36,
   "metadata": {
    "ExecuteTime": {
     "end_time": "2019-08-20T05:41:42.439977Z",
     "start_time": "2019-08-20T05:41:42.433949Z"
    }
   },
   "outputs": [
    {
     "data": {
      "text/plain": [
       "(3.641303086027156, 0.045846812634186246)"
      ]
     },
     "execution_count": 36,
     "metadata": {},
     "output_type": "execute_result"
    }
   ],
   "source": [
    "w, p = st.levene(group1, group2, group3) #方差齐性检验\n",
    "w, p"
   ]
  },
  {
   "cell_type": "code",
   "execution_count": 37,
   "metadata": {
    "ExecuteTime": {
     "end_time": "2019-08-20T05:44:36.373432Z",
     "start_time": "2019-08-20T05:44:36.369430Z"
    }
   },
   "outputs": [
    {
     "data": {
      "text/plain": [
       "(3.7113359882669763, 0.043589334959178244)"
      ]
     },
     "execution_count": 37,
     "metadata": {},
     "output_type": "execute_result"
    }
   ],
   "source": [
    "F_statistic, pVal = st.f_oneway(group1, group2, group3) #方差齐性检验\n",
    "F_statistic, pVal"
   ]
  },
  {
   "cell_type": "code",
   "execution_count": 40,
   "metadata": {
    "ExecuteTime": {
     "end_time": "2019-08-20T05:45:51.124292Z",
     "start_time": "2019-08-20T05:45:51.104288Z"
    }
   },
   "outputs": [
    {
     "data": {
      "text/html": [
       "<div>\n",
       "<style scoped>\n",
       "    .dataframe tbody tr th:only-of-type {\n",
       "        vertical-align: middle;\n",
       "    }\n",
       "\n",
       "    .dataframe tbody tr th {\n",
       "        vertical-align: top;\n",
       "    }\n",
       "\n",
       "    .dataframe thead th {\n",
       "        text-align: right;\n",
       "    }\n",
       "</style>\n",
       "<table border=\"1\" class=\"dataframe\">\n",
       "  <thead>\n",
       "    <tr style=\"text-align: right;\">\n",
       "      <th></th>\n",
       "      <th>value</th>\n",
       "      <th>treatment</th>\n",
       "    </tr>\n",
       "  </thead>\n",
       "  <tbody>\n",
       "    <tr>\n",
       "      <th>0</th>\n",
       "      <td>243.0</td>\n",
       "      <td>1.0</td>\n",
       "    </tr>\n",
       "    <tr>\n",
       "      <th>1</th>\n",
       "      <td>251.0</td>\n",
       "      <td>1.0</td>\n",
       "    </tr>\n",
       "    <tr>\n",
       "      <th>2</th>\n",
       "      <td>275.0</td>\n",
       "      <td>1.0</td>\n",
       "    </tr>\n",
       "  </tbody>\n",
       "</table>\n",
       "</div>"
      ],
      "text/plain": [
       "   value  treatment\n",
       "0  243.0        1.0\n",
       "1  251.0        1.0\n",
       "2  275.0        1.0"
      ]
     },
     "execution_count": 40,
     "metadata": {},
     "output_type": "execute_result"
    },
    {
     "data": {
      "text/html": [
       "<div>\n",
       "<style scoped>\n",
       "    .dataframe tbody tr th:only-of-type {\n",
       "        vertical-align: middle;\n",
       "    }\n",
       "\n",
       "    .dataframe tbody tr th {\n",
       "        vertical-align: top;\n",
       "    }\n",
       "\n",
       "    .dataframe thead th {\n",
       "        text-align: right;\n",
       "    }\n",
       "</style>\n",
       "<table border=\"1\" class=\"dataframe\">\n",
       "  <thead>\n",
       "    <tr style=\"text-align: right;\">\n",
       "      <th></th>\n",
       "      <th>df</th>\n",
       "      <th>sum_sq</th>\n",
       "      <th>mean_sq</th>\n",
       "      <th>F</th>\n",
       "      <th>PR(&gt;F)</th>\n",
       "    </tr>\n",
       "  </thead>\n",
       "  <tbody>\n",
       "    <tr>\n",
       "      <th>C(treatment)</th>\n",
       "      <td>2.0</td>\n",
       "      <td>15515.766414</td>\n",
       "      <td>7757.883207</td>\n",
       "      <td>3.711336</td>\n",
       "      <td>0.043589</td>\n",
       "    </tr>\n",
       "    <tr>\n",
       "      <th>Residual</th>\n",
       "      <td>19.0</td>\n",
       "      <td>39716.097222</td>\n",
       "      <td>2090.320906</td>\n",
       "      <td>NaN</td>\n",
       "      <td>NaN</td>\n",
       "    </tr>\n",
       "  </tbody>\n",
       "</table>\n",
       "</div>"
      ],
      "text/plain": [
       "                df        sum_sq      mean_sq         F    PR(>F)\n",
       "C(treatment)   2.0  15515.766414  7757.883207  3.711336  0.043589\n",
       "Residual      19.0  39716.097222  2090.320906       NaN       NaN"
      ]
     },
     "execution_count": 40,
     "metadata": {},
     "output_type": "execute_result"
    }
   ],
   "source": [
    "# Elegant alternative implementation, with pandas & statsmodels\n",
    "df = pd.DataFrame(data, columns=['value', 'treatment'])    \n",
    "df[:3]\n",
    "model = ols('value ~ C(treatment)', df).fit()\n",
    "anovaResults = anova_lm(model)\n",
    "anovaResults\n",
    "\n",
    "# Check if the two results are equal. If they are, there is no output\n",
    "np.testing.assert_almost_equal(F_statistic, anovaResults['F'][0])"
   ]
  },
  {
   "cell_type": "markdown",
   "metadata": {},
   "source": [
    "### 2"
   ]
  },
  {
   "cell_type": "code",
   "execution_count": 42,
   "metadata": {
    "ExecuteTime": {
     "end_time": "2019-08-20T05:51:50.492397Z",
     "start_time": "2019-08-20T05:51:50.477367Z"
    }
   },
   "outputs": [
    {
     "data": {
      "text/html": [
       "<div>\n",
       "<style scoped>\n",
       "    .dataframe tbody tr th:only-of-type {\n",
       "        vertical-align: middle;\n",
       "    }\n",
       "\n",
       "    .dataframe tbody tr th {\n",
       "        vertical-align: top;\n",
       "    }\n",
       "\n",
       "    .dataframe thead th {\n",
       "        text-align: right;\n",
       "    }\n",
       "</style>\n",
       "<table border=\"1\" class=\"dataframe\">\n",
       "  <thead>\n",
       "    <tr style=\"text-align: right;\">\n",
       "      <th></th>\n",
       "      <th>family</th>\n",
       "      <th>father</th>\n",
       "      <th>mother</th>\n",
       "      <th>sex</th>\n",
       "      <th>height</th>\n",
       "      <th>nkids</th>\n",
       "    </tr>\n",
       "  </thead>\n",
       "  <tbody>\n",
       "    <tr>\n",
       "      <th>0</th>\n",
       "      <td>1</td>\n",
       "      <td>78.5</td>\n",
       "      <td>67.0</td>\n",
       "      <td>M</td>\n",
       "      <td>73.2</td>\n",
       "      <td>4</td>\n",
       "    </tr>\n",
       "    <tr>\n",
       "      <th>1</th>\n",
       "      <td>1</td>\n",
       "      <td>78.5</td>\n",
       "      <td>67.0</td>\n",
       "      <td>F</td>\n",
       "      <td>69.2</td>\n",
       "      <td>4</td>\n",
       "    </tr>\n",
       "    <tr>\n",
       "      <th>2</th>\n",
       "      <td>1</td>\n",
       "      <td>78.5</td>\n",
       "      <td>67.0</td>\n",
       "      <td>F</td>\n",
       "      <td>69.0</td>\n",
       "      <td>4</td>\n",
       "    </tr>\n",
       "    <tr>\n",
       "      <th>3</th>\n",
       "      <td>1</td>\n",
       "      <td>78.5</td>\n",
       "      <td>67.0</td>\n",
       "      <td>F</td>\n",
       "      <td>69.0</td>\n",
       "      <td>4</td>\n",
       "    </tr>\n",
       "    <tr>\n",
       "      <th>4</th>\n",
       "      <td>2</td>\n",
       "      <td>75.5</td>\n",
       "      <td>66.5</td>\n",
       "      <td>M</td>\n",
       "      <td>73.5</td>\n",
       "      <td>4</td>\n",
       "    </tr>\n",
       "  </tbody>\n",
       "</table>\n",
       "</div>"
      ],
      "text/plain": [
       "  family  father  mother sex  height  nkids\n",
       "0      1    78.5    67.0   M    73.2      4\n",
       "1      1    78.5    67.0   F    69.2      4\n",
       "2      1    78.5    67.0   F    69.0      4\n",
       "3      1    78.5    67.0   F    69.0      4\n",
       "4      2    75.5    66.5   M    73.5      4"
      ]
     },
     "execution_count": 42,
     "metadata": {},
     "output_type": "execute_result"
    },
    {
     "data": {
      "text/plain": [
       "(2083.4808060362743, 1.4431979631307123e-302)"
      ]
     },
     "execution_count": 42,
     "metadata": {},
     "output_type": "execute_result"
    },
    {
     "data": {
      "text/plain": [
       "(45.64516191269643, 1.443197963131157e-302)"
      ]
     },
     "execution_count": 42,
     "metadata": {},
     "output_type": "execute_result"
    },
    {
     "name": "stdout",
     "output_type": "stream",
     "text": [
      "\n",
      "T^2 == F: ------------------------------------------\n",
      "From the t-test we get t^2=2083.481, and from the F-test F=2083.481\n"
     ]
    }
   ],
   "source": [
    "# Get the data\n",
    "data = pd.read_csv('./ISP/Code_Quantlets/08_TestsMeanValues/anovaOneway/galton.csv')\n",
    "data[:5]\n",
    "\n",
    "# First, calculate the F- and the T-values, ...\n",
    "F_statistic, pVal = stats.f_oneway(data['father'], data['mother'])\n",
    "F_statistic, pVal\n",
    "t_val, pVal_t = stats.ttest_ind(data['father'], data['mother'])\n",
    "t_val, pVal_t\n",
    "\n",
    "# ... and show that t**2 = F\n",
    "print('\\nT^2 == F: ------------------------------------------')\n",
    "print(('From the t-test we get t^2={0:5.3f}, and from the F-test F={1:5.3f}'.format(t_val**2, F_statistic)))\n",
    "\n",
    "# numeric test\n",
    "np.testing.assert_almost_equal(t_val**2, F_statistic)"
   ]
  },
  {
   "cell_type": "code",
   "execution_count": 43,
   "metadata": {
    "ExecuteTime": {
     "end_time": "2019-08-20T05:58:48.991259Z",
     "start_time": "2019-08-20T05:58:48.969262Z"
    }
   },
   "outputs": [
    {
     "name": "stdout",
     "output_type": "stream",
     "text": [
      "\n",
      "ANOVA with \"statsmodels\" ------------------------------\n"
     ]
    },
    {
     "data": {
      "text/html": [
       "<div>\n",
       "<style scoped>\n",
       "    .dataframe tbody tr th:only-of-type {\n",
       "        vertical-align: middle;\n",
       "    }\n",
       "\n",
       "    .dataframe tbody tr th {\n",
       "        vertical-align: top;\n",
       "    }\n",
       "\n",
       "    .dataframe thead th {\n",
       "        text-align: right;\n",
       "    }\n",
       "</style>\n",
       "<table border=\"1\" class=\"dataframe\">\n",
       "  <thead>\n",
       "    <tr style=\"text-align: right;\">\n",
       "      <th></th>\n",
       "      <th>df</th>\n",
       "      <th>sum_sq</th>\n",
       "      <th>mean_sq</th>\n",
       "      <th>F</th>\n",
       "      <th>PR(&gt;F)</th>\n",
       "    </tr>\n",
       "  </thead>\n",
       "  <tbody>\n",
       "    <tr>\n",
       "      <th>sex</th>\n",
       "      <td>1.0</td>\n",
       "      <td>5874.573234</td>\n",
       "      <td>5874.573234</td>\n",
       "      <td>933.184603</td>\n",
       "      <td>5.175573e-141</td>\n",
       "    </tr>\n",
       "    <tr>\n",
       "      <th>Residual</th>\n",
       "      <td>896.0</td>\n",
       "      <td>5640.489138</td>\n",
       "      <td>6.295189</td>\n",
       "      <td>NaN</td>\n",
       "      <td>NaN</td>\n",
       "    </tr>\n",
       "  </tbody>\n",
       "</table>\n",
       "</div>"
      ],
      "text/plain": [
       "             df       sum_sq      mean_sq           F         PR(>F)\n",
       "sex         1.0  5874.573234  5874.573234  933.184603  5.175573e-141\n",
       "Residual  896.0  5640.489138     6.295189         NaN            NaN"
      ]
     },
     "execution_count": 43,
     "metadata": {},
     "output_type": "execute_result"
    }
   ],
   "source": [
    "anova_results = anova_lm(ols('height ~ 1 + sex', data).fit())\n",
    "print('\\nANOVA with \"statsmodels\" ------------------------------')\n",
    "anova_results"
   ]
  },
  {
   "cell_type": "markdown",
   "metadata": {},
   "source": [
    "### 3"
   ]
  },
  {
   "cell_type": "code",
   "execution_count": 71,
   "metadata": {
    "ExecuteTime": {
     "end_time": "2019-08-22T05:29:04.354415Z",
     "start_time": "2019-08-22T05:29:04.334415Z"
    }
   },
   "outputs": [
    {
     "data": {
      "text/html": [
       "<div>\n",
       "<style scoped>\n",
       "    .dataframe tbody tr th:only-of-type {\n",
       "        vertical-align: middle;\n",
       "    }\n",
       "\n",
       "    .dataframe tbody tr th {\n",
       "        vertical-align: top;\n",
       "    }\n",
       "\n",
       "    .dataframe thead th {\n",
       "        text-align: right;\n",
       "    }\n",
       "</style>\n",
       "<table border=\"1\" class=\"dataframe\">\n",
       "  <thead>\n",
       "    <tr style=\"text-align: right;\">\n",
       "      <th></th>\n",
       "      <th>values</th>\n",
       "      <th>group</th>\n",
       "    </tr>\n",
       "  </thead>\n",
       "  <tbody>\n",
       "    <tr>\n",
       "      <th>0</th>\n",
       "      <td>243.0</td>\n",
       "      <td>1.0</td>\n",
       "    </tr>\n",
       "    <tr>\n",
       "      <th>1</th>\n",
       "      <td>251.0</td>\n",
       "      <td>1.0</td>\n",
       "    </tr>\n",
       "    <tr>\n",
       "      <th>2</th>\n",
       "      <td>275.0</td>\n",
       "      <td>1.0</td>\n",
       "    </tr>\n",
       "    <tr>\n",
       "      <th>3</th>\n",
       "      <td>291.0</td>\n",
       "      <td>1.0</td>\n",
       "    </tr>\n",
       "    <tr>\n",
       "      <th>4</th>\n",
       "      <td>347.0</td>\n",
       "      <td>1.0</td>\n",
       "    </tr>\n",
       "  </tbody>\n",
       "</table>\n",
       "</div>"
      ],
      "text/plain": [
       "   values  group\n",
       "0   243.0    1.0\n",
       "1   251.0    1.0\n",
       "2   275.0    1.0\n",
       "3   291.0    1.0\n",
       "4   347.0    1.0"
      ]
     },
     "execution_count": 71,
     "metadata": {},
     "output_type": "execute_result"
    },
    {
     "data": {
      "text/html": [
       "<div>\n",
       "<style scoped>\n",
       "    .dataframe tbody tr th:only-of-type {\n",
       "        vertical-align: middle;\n",
       "    }\n",
       "\n",
       "    .dataframe tbody tr th {\n",
       "        vertical-align: top;\n",
       "    }\n",
       "\n",
       "    .dataframe thead th {\n",
       "        text-align: right;\n",
       "    }\n",
       "</style>\n",
       "<table border=\"1\" class=\"dataframe\">\n",
       "  <thead>\n",
       "    <tr style=\"text-align: right;\">\n",
       "      <th></th>\n",
       "      <th>count</th>\n",
       "      <th>mean</th>\n",
       "      <th>std</th>\n",
       "      <th>min</th>\n",
       "      <th>25%</th>\n",
       "      <th>50%</th>\n",
       "      <th>75%</th>\n",
       "      <th>max</th>\n",
       "    </tr>\n",
       "  </thead>\n",
       "  <tbody>\n",
       "    <tr>\n",
       "      <th>values</th>\n",
       "      <td>22.0</td>\n",
       "      <td>283.227273</td>\n",
       "      <td>51.284391</td>\n",
       "      <td>206.0</td>\n",
       "      <td>249.5</td>\n",
       "      <td>274.0</td>\n",
       "      <td>305.5</td>\n",
       "      <td>392.0</td>\n",
       "    </tr>\n",
       "    <tr>\n",
       "      <th>group</th>\n",
       "      <td>22.0</td>\n",
       "      <td>1.863636</td>\n",
       "      <td>0.774317</td>\n",
       "      <td>1.0</td>\n",
       "      <td>1.0</td>\n",
       "      <td>2.0</td>\n",
       "      <td>2.0</td>\n",
       "      <td>3.0</td>\n",
       "    </tr>\n",
       "  </tbody>\n",
       "</table>\n",
       "</div>"
      ],
      "text/plain": [
       "        count        mean        std    min    25%    50%    75%    max\n",
       "values   22.0  283.227273  51.284391  206.0  249.5  274.0  305.5  392.0\n",
       "group    22.0    1.863636   0.774317    1.0    1.0    2.0    2.0    3.0"
      ]
     },
     "execution_count": 71,
     "metadata": {},
     "output_type": "execute_result"
    }
   ],
   "source": [
    "inFile = './ISP/Code_Quantlets/08_TestsMeanValues/anovaOneway/altman_910.txt'\n",
    "data = np.genfromtxt(inFile, delimiter=',')\n",
    "\n",
    "# Convert them to pandas-forman and group them by their group value\n",
    "df = pd.DataFrame(data, columns=['values', 'group'])\n",
    "df[:5]\n",
    "df.describe().T"
   ]
  },
  {
   "cell_type": "code",
   "execution_count": 72,
   "metadata": {
    "ExecuteTime": {
     "end_time": "2019-08-22T05:29:04.884413Z",
     "start_time": "2019-08-22T05:29:04.878417Z"
    }
   },
   "outputs": [
    {
     "data": {
      "text/plain": [
       "55231.86363636364"
      ]
     },
     "execution_count": 72,
     "metadata": {},
     "output_type": "execute_result"
    }
   ],
   "source": [
    "# The \"total sum-square\" is the squared deviation from the mean\n",
    "ss_total = np.sum((df['values']-df['values'].mean())**2)\n",
    "ss_total"
   ]
  },
  {
   "cell_type": "code",
   "execution_count": 73,
   "metadata": {
    "ExecuteTime": {
     "end_time": "2019-08-22T05:29:05.485415Z",
     "start_time": "2019-08-22T05:29:05.471415Z"
    }
   },
   "outputs": [
    {
     "data": {
      "text/plain": [
       "(15515.766414141408, 39716.09722222222)"
      ]
     },
     "execution_count": 73,
     "metadata": {},
     "output_type": "execute_result"
    },
    {
     "data": {
      "text/plain": [
       "2"
      ]
     },
     "execution_count": 73,
     "metadata": {},
     "output_type": "execute_result"
    },
    {
     "data": {
      "text/plain": [
       "19"
      ]
     },
     "execution_count": 73,
     "metadata": {},
     "output_type": "execute_result"
    },
    {
     "name": "stdout",
     "output_type": "stream",
     "text": [
      "ANOVA-Results: F = 3.7113359882669754, and p<0.043589334959178244\n"
     ]
    }
   ],
   "source": [
    "groups = df.groupby('group')\n",
    "# Calculate ss_treatment and  ss_error\n",
    "(ss_treatments, ss_error) = (0, 0)\n",
    "for val, group in groups:\n",
    "    ss_error += sum((group['values'] - group['values'].mean())**2)\n",
    "    ss_treatments += len(group) * (group['values'].mean() - df['values'].mean())**2\n",
    "(ss_treatments, ss_error) \n",
    "\n",
    "df_groups = len(groups)-1\n",
    "df_groups\n",
    "df_residuals = len(data)-len(groups)\n",
    "df_residuals\n",
    "F = (ss_treatments/df_groups) / (ss_error/df_residuals)\n",
    "df = stats.f(df_groups,df_residuals)\n",
    "p = df.sf(F)\n",
    "\n",
    "print(('ANOVA-Results: F = {0}, and p<{1}'.format(F, p)))"
   ]
  },
  {
   "cell_type": "code",
   "execution_count": 74,
   "metadata": {
    "ExecuteTime": {
     "end_time": "2019-08-22T05:29:06.507437Z",
     "start_time": "2019-08-22T05:29:06.397415Z"
    }
   },
   "outputs": [
    {
     "data": {
      "text/plain": [
       "[<matplotlib.lines.Line2D at 0x24b166b59e8>]"
      ]
     },
     "execution_count": 74,
     "metadata": {},
     "output_type": "execute_result"
    },
    {
     "data": {
      "text/plain": [
       "[<matplotlib.lines.Line2D at 0x24b154ed278>]"
      ]
     },
     "execution_count": 74,
     "metadata": {},
     "output_type": "execute_result"
    },
    {
     "data": {
      "image/png": "[encoded data removed]",
      "text/plain": [
       "<Figure size 432x288 with 1 Axes>"
      ]
     },
     "metadata": {
      "needs_background": "light"
     },
     "output_type": "display_data"
    }
   ],
   "source": [
    "x = np.linspace(0, 10, 100)\n",
    "y1 = df.sf(x)\n",
    "y2 = df.cdf(x)\n",
    "plt.plot(x, y1, label='sf')\n",
    "plt.plot(x, y2, label='cdf')"
   ]
  },
  {
   "cell_type": "code",
   "execution_count": 79,
   "metadata": {
    "ExecuteTime": {
     "end_time": "2019-08-22T05:34:24.252751Z",
     "start_time": "2019-08-22T05:34:24.245750Z"
    }
   },
   "outputs": [
    {
     "data": {
      "text/plain": [
       "(array([243., 251., 275., 291., 347., 354., 380., 392.]),\n",
       " array([206., 210., 226., 249., 255., 273., 285., 295., 309.]),\n",
       " array([241., 258., 270., 293., 328.]))"
      ]
     },
     "execution_count": 79,
     "metadata": {},
     "output_type": "execute_result"
    }
   ],
   "source": [
    "d1 = data[data[:,1] == 1][:, 0]\n",
    "d2 = data[data[:,1] == 2][:, 0]\n",
    "d3 = data[data[:,1] == 3][:, 0]\n",
    "d1,d2,d3"
   ]
  },
  {
   "cell_type": "code",
   "execution_count": 77,
   "metadata": {
    "ExecuteTime": {
     "end_time": "2019-08-22T05:31:14.595105Z",
     "start_time": "2019-08-22T05:31:14.590107Z"
    }
   },
   "outputs": [
    {
     "data": {
      "text/plain": [
       "F_onewayResult(statistic=3.7113359882669763, pvalue=0.043589334959178244)"
      ]
     },
     "execution_count": 77,
     "metadata": {},
     "output_type": "execute_result"
    }
   ],
   "source": [
    "st.f_oneway(d1, d2, d3)"
   ]
  },
  {
   "cell_type": "markdown",
   "metadata": {},
   "source": [
    "## 多因素方差分析"
   ]
  },
  {
   "cell_type": "code",
   "execution_count": 82,
   "metadata": {
    "ExecuteTime": {
     "end_time": "2019-08-22T05:49:12.139534Z",
     "start_time": "2019-08-22T05:49:12.117533Z"
    }
   },
   "outputs": [
    {
     "data": {
      "text/html": [
       "<div>\n",
       "<style scoped>\n",
       "    .dataframe tbody tr th:only-of-type {\n",
       "        vertical-align: middle;\n",
       "    }\n",
       "\n",
       "    .dataframe tbody tr th {\n",
       "        vertical-align: top;\n",
       "    }\n",
       "\n",
       "    .dataframe thead th {\n",
       "        text-align: right;\n",
       "    }\n",
       "</style>\n",
       "<table border=\"1\" class=\"dataframe\">\n",
       "  <thead>\n",
       "    <tr style=\"text-align: right;\">\n",
       "      <th></th>\n",
       "      <th>df</th>\n",
       "      <th>sum_sq</th>\n",
       "      <th>mean_sq</th>\n",
       "      <th>F</th>\n",
       "      <th>PR(&gt;F)</th>\n",
       "    </tr>\n",
       "  </thead>\n",
       "  <tbody>\n",
       "    <tr>\n",
       "      <th>C(fetus)</th>\n",
       "      <td>2.0</td>\n",
       "      <td>324.008889</td>\n",
       "      <td>162.004444</td>\n",
       "      <td>2113.101449</td>\n",
       "      <td>1.051039e-27</td>\n",
       "    </tr>\n",
       "    <tr>\n",
       "      <th>C(observer)</th>\n",
       "      <td>3.0</td>\n",
       "      <td>1.198611</td>\n",
       "      <td>0.399537</td>\n",
       "      <td>5.211353</td>\n",
       "      <td>6.497055e-03</td>\n",
       "    </tr>\n",
       "    <tr>\n",
       "      <th>C(fetus):C(observer)</th>\n",
       "      <td>6.0</td>\n",
       "      <td>0.562222</td>\n",
       "      <td>0.093704</td>\n",
       "      <td>1.222222</td>\n",
       "      <td>3.295509e-01</td>\n",
       "    </tr>\n",
       "    <tr>\n",
       "      <th>Residual</th>\n",
       "      <td>24.0</td>\n",
       "      <td>1.840000</td>\n",
       "      <td>0.076667</td>\n",
       "      <td>NaN</td>\n",
       "      <td>NaN</td>\n",
       "    </tr>\n",
       "  </tbody>\n",
       "</table>\n",
       "</div>"
      ],
      "text/plain": [
       "                        df      sum_sq     mean_sq            F        PR(>F)\n",
       "C(fetus)               2.0  324.008889  162.004444  2113.101449  1.051039e-27\n",
       "C(observer)            3.0    1.198611    0.399537     5.211353  6.497055e-03\n",
       "C(fetus):C(observer)   6.0    0.562222    0.093704     1.222222  3.295509e-01\n",
       "Residual              24.0    1.840000    0.076667          NaN           NaN"
      ]
     },
     "execution_count": 82,
     "metadata": {},
     "output_type": "execute_result"
    }
   ],
   "source": [
    "from statsmodels.formula.api import ols\n",
    "from statsmodels.stats.anova import anova_lm\n",
    "# Get the data\n",
    "inFile = './ISP/Code_Quantlets/08_TestsMeanValues/anovaTwoway/altman_12_6.txt'\n",
    "data = np.genfromtxt(inFile, delimiter=',')\n",
    "\n",
    "# Bring them in DataFrame-format\n",
    "df = pd.DataFrame(data, columns=['hs', 'fetus', 'observer'])\n",
    "\n",
    "# --- >>> START stats <<< ---\n",
    "# Determine the ANOVA with interaction\n",
    "formula = 'hs ~ C(fetus) + C(observer) + C(fetus):C(observer)'\n",
    "lm = ols(formula, df).fit()\n",
    "anovaResults = anova_lm(lm)\n",
    "# --- >>> STOP stats <<< ---\n",
    "anovaResults"
   ]
  },
  {
   "cell_type": "code",
   "execution_count": null,
   "metadata": {},
   "outputs": [],
   "source": []
  }
 ],
 "metadata": {
  "hide_input": false,
  "kernelspec": {
   "display_name": "Python 3",
   "language": "python",
   "name": "python3"
  },
  "language_info": {
   "codemirror_mode": {
    "name": "ipython",
    "version": 3
   },
   "file_extension": ".py",
   "mimetype": "text/x-python",
   "name": "python",
   "nbconvert_exporter": "python",
   "pygments_lexer": "ipython3",
   "version": "3.7.3"
  },
  "nbTranslate": {
   "displayLangs": [
    "*"
   ],
   "hotkey": "alt-t",
   "langInMainMenu": true,
   "sourceLang": "en",
   "targetLang": "fr",
   "useGoogleTranslate": true
  },
  "toc": {
   "base_numbering": 1,
   "nav_menu": {},
   "number_sections": true,
   "sideBar": true,
   "skip_h1_title": false,
   "title_cell": "Table of Contents",
   "title_sidebar": "Contents",
   "toc_cell": false,
   "toc_position": {
    "height": "calc(100% - 180px)",
    "left": "10px",
    "top": "150px",
    "width": "383.594px"
   },
   "toc_section_display": true,
   "toc_window_display": true
  },
  "varInspector": {
   "cols": {
    "lenName": 16,
    "lenType": 16,
    "lenVar": 40
   },
   "kernels_config": {
    "python": {
     "delete_cmd_postfix": "",
     "delete_cmd_prefix": "del ",
     "library": "var_list.py",
     "varRefreshCmd": "print(var_dic_list())"
    },
    "r": {
     "delete_cmd_postfix": ") ",
     "delete_cmd_prefix": "rm(",
     "library": "var_list.r",
     "varRefreshCmd": "cat(var_dic_list()) "
    }
   },
   "types_to_exclude": [
    "module",
    "function",
    "builtin_function_or_method",
    "instance",
    "_Feature"
   ],
   "window_display": false
  }
 },
 "nbformat": 4,
 "nbformat_minor": 2
}
