{
 "cells": [
  {
   "cell_type": "markdown",
   "metadata": {},
   "source": [
    "# 频数表"
   ]
  },
  {
   "cell_type": "markdown",
   "metadata": {},
   "source": [
    "$$\n",
    "\\chi^{2}=\\sum \\frac{(A-E)^{2}}{E}=\\sum_{i=1}^{k} \\frac{\\left(A_{i}-E_{i}\\right)^{2}}{E_{i}}=\\sum_{i=1}^{k} \\frac{\\left(A_{i}-n p_{i}\\right)^{2}}{n p_{i}} \\quad(i=1,2,3, \\ldots, k)\n",
    "$$\n",
    "\n",
    "+ 其中，$A_i$为i水平的观察频数，$E_i$为i水平的期望频数，n为总频数，$p_i$为i水平的期望频率。i水平的期望频数$E_i$等于总频数n×i水平的期望概率$p_i$，k为单元格数。当n比较大时，$\\chi^{2}$统计量近似服从k-1(计算Ei时用到的参数个数)个自由度的卡方分布。"
   ]
  },
  {
   "cell_type": "markdown",
   "metadata": {
    "ExecuteTime": {
     "end_time": "2019-09-06T05:53:42.982619Z",
     "start_time": "2019-09-06T05:53:42.977618Z"
    }
   },
   "source": [
    "## 单因素卡方检验"
   ]
  },
  {
   "cell_type": "markdown",
   "metadata": {},
   "source": [
    "+ 卡方检验是一种用途很广的计数资料的假设检验方法。它属于非参数检验的范畴，主要是比较两个及两个以上样本率( 构成比）以及两个分类变量的关联性分析。其根本思想就是在于比较理论频数和实际频数的吻合程度或拟合优度问题。\n",
    "\n",
    "+ 它在分类资料统计推断中的应用，包括：两个率或两个构成比比较的卡方检验；多个率或多个构成比比较的卡方检验以及分类资料的相关分析等。\n",
    "+ 零假设H0：观察分布等于期望分布"
   ]
  },
  {
   "cell_type": "code",
   "execution_count": 33,
   "metadata": {
    "ExecuteTime": {
     "end_time": "2019-09-06T05:59:42.278153Z",
     "start_time": "2019-09-06T05:59:42.273153Z"
    }
   },
   "outputs": [
    {
     "data": {
      "text/plain": [
       "5.5"
      ]
     },
     "execution_count": 33,
     "metadata": {},
     "output_type": "execute_result"
    }
   ],
   "source": [
    "data = np.array([10, 6, 5, 4, 5, 3])\n",
    "np.mean(data)"
   ]
  },
  {
   "cell_type": "code",
   "execution_count": 34,
   "metadata": {
    "ExecuteTime": {
     "end_time": "2019-09-06T05:59:51.136522Z",
     "start_time": "2019-09-06T05:59:51.132520Z"
    }
   },
   "outputs": [
    {
     "data": {
      "text/plain": [
       "Power_divergenceResult(statistic=5.363636363636364, pvalue=0.37313038594870584)"
      ]
     },
     "execution_count": 34,
     "metadata": {},
     "output_type": "execute_result"
    }
   ],
   "source": [
    "st.chisquare(data)"
   ]
  },
  {
   "cell_type": "code",
   "execution_count": 40,
   "metadata": {
    "ExecuteTime": {
     "end_time": "2019-09-06T06:03:19.776312Z",
     "start_time": "2019-09-06T06:03:19.771313Z"
    }
   },
   "outputs": [
    {
     "data": {
      "text/plain": [
       "5.363636363636363"
      ]
     },
     "execution_count": 40,
     "metadata": {},
     "output_type": "execute_result"
    }
   ],
   "source": [
    "tval = np.sum((data - np.mean(data)) ** 2) / np.mean(data)\n",
    "tval"
   ]
  },
  {
   "cell_type": "markdown",
   "metadata": {
    "ExecuteTime": {
     "end_time": "2019-09-06T06:04:28.292134Z",
     "start_time": "2019-09-06T06:04:28.288135Z"
    }
   },
   "source": [
    "## 卡方列联表检验"
   ]
  },
  {
   "cell_type": "code",
   "execution_count": 47,
   "metadata": {
    "ExecuteTime": {
     "end_time": "2019-09-09T05:14:20.866497Z",
     "start_time": "2019-09-09T05:14:20.860470Z"
    }
   },
   "outputs": [
    {
     "data": {
      "text/plain": [
       "array([[43,  9],\n",
       "       [44,  4]])"
      ]
     },
     "execution_count": 47,
     "metadata": {},
     "output_type": "execute_result"
    }
   ],
   "source": [
    "data = np.array([[43, 9],\n",
    "            [44, 4]])\n",
    "data"
   ]
  },
  {
   "cell_type": "code",
   "execution_count": 63,
   "metadata": {
    "ExecuteTime": {
     "end_time": "2019-09-09T05:36:23.941086Z",
     "start_time": "2019-09-09T05:36:23.934058Z"
    }
   },
   "outputs": [
    {
     "data": {
      "text/plain": [
       "(1.0724852071005921, 0.300384770390566, 1, array([[45.24,  6.76],\n",
       "        [41.76,  6.24]]))"
      ]
     },
     "execution_count": 63,
     "metadata": {},
     "output_type": "execute_result"
    },
    {
     "data": {
      "text/plain": [
       "(1.7774150400145103, 0.1824670652605479, 1, array([[45.24,  6.76],\n",
       "        [41.76,  6.24]]))"
      ]
     },
     "execution_count": 63,
     "metadata": {},
     "output_type": "execute_result"
    }
   ],
   "source": [
    "st.chi2_contingency(data, correction=True) #V, p, dof, expected\n",
    "st.chi2_contingency(data, correction=False) #V, p, dof, expected"
   ]
  },
  {
   "cell_type": "markdown",
   "metadata": {},
   "source": [
    "## fisher"
   ]
  },
  {
   "cell_type": "code",
   "execution_count": 64,
   "metadata": {
    "ExecuteTime": {
     "end_time": "2019-09-09T05:38:25.285061Z",
     "start_time": "2019-09-09T05:38:25.280064Z"
    }
   },
   "outputs": [
    {
     "data": {
      "text/plain": [
       "array([[1, 5],\n",
       "       [8, 2]])"
      ]
     },
     "execution_count": 64,
     "metadata": {},
     "output_type": "execute_result"
    }
   ],
   "source": [
    "obs = np.array([[1, 5],\n",
    "               [8, 2]])\n",
    "obs"
   ]
  },
  {
   "cell_type": "code",
   "execution_count": 66,
   "metadata": {
    "ExecuteTime": {
     "end_time": "2019-09-09T05:39:05.166653Z",
     "start_time": "2019-09-09T05:39:05.160654Z"
    }
   },
   "outputs": [
    {
     "data": {
      "text/plain": [
       "(0.05, 0.03496503496503495)"
      ]
     },
     "execution_count": 66,
     "metadata": {},
     "output_type": "execute_result"
    }
   ],
   "source": [
    "fisher_result = st.fisher_exact(obs)\n",
    "fisher_result"
   ]
  },
  {
   "cell_type": "code",
   "execution_count": 68,
   "metadata": {
    "ExecuteTime": {
     "end_time": "2019-09-09T05:39:13.107529Z",
     "start_time": "2019-09-09T05:39:13.104528Z"
    }
   },
   "outputs": [
    {
     "name": "stdout",
     "output_type": "stream",
     "text": [
      "\n",
      "FISHER --------------------------------------------------------\n",
      "The probability of obtaining a distribution at least as extreme as the one that was actually observed, assuming that the null hypothesis is true, is: 0.035.\n"
     ]
    }
   ],
   "source": [
    "print('\\nFISHER --------------------------------------------------------')\n",
    "print(('The probability of obtaining a distribution at least as extreme '\n",
    "+ 'as the one that was actually observed, assuming that the null ' +\n",
    "'hypothesis is true, is: {0:5.3f}.'.format(fisher_result[1])))"
   ]
  },
  {
   "cell_type": "markdown",
   "metadata": {},
   "source": [
    "## McNemar检验（配对卡方检验）\n",
    "+ 零假设：治疗方式是一样的"
   ]
  },
  {
   "cell_type": "markdown",
   "metadata": {},
   "source": [
    "||after:出现|after:未出现|总数|\n",
    "|:----|:----:|:----:|:----:|\n",
    "|before:出现| 101  | 121  | 222  |\n",
    "|before:未出现| 59  | 33  | 92  |\n",
    "|总数| 160  | 154  | 314  |"
   ]
  },
  {
   "cell_type": "code",
   "execution_count": 88,
   "metadata": {
    "ExecuteTime": {
     "end_time": "2019-09-10T05:32:03.904675Z",
     "start_time": "2019-09-10T05:32:03.900671Z"
    }
   },
   "outputs": [
    {
     "data": {
      "text/plain": [
       "array([[101, 121],\n",
       "       [ 59,  33]])"
      ]
     },
     "execution_count": 88,
     "metadata": {},
     "output_type": "execute_result"
    }
   ],
   "source": [
    "data = np.array([[101, 121], [59, 33]])\n",
    "data"
   ]
  },
  {
   "cell_type": "code",
   "execution_count": 89,
   "metadata": {
    "ExecuteTime": {
     "end_time": "2019-09-10T05:32:04.609552Z",
     "start_time": "2019-09-10T05:32:04.605548Z"
    }
   },
   "outputs": [
    {
     "data": {
      "text/plain": [
       "(59, 4.43444926375551e-06)"
      ]
     },
     "execution_count": 89,
     "metadata": {},
     "output_type": "execute_result"
    }
   ],
   "source": [
    "from statsmodels.sandbox.stats.runs import mcnemar\n",
    "chi2, p = mcnemar(data)\n",
    "chi2, p"
   ]
  },
  {
   "cell_type": "markdown",
   "metadata": {},
   "source": [
    "## Cochran's Q检验\n",
    "+ 零假设：变量之间没有差别\n",
    "\n",
    "$$12个对象在3个任务上成功（1）或者失败（0）$$  \n",
    "\n",
    "|对象|任务1|任务2|任务3|\n",
    "|:----|:----:|:----:|:----:|\n",
    "|1|0|1|0|\n",
    "|2|1|1|0|\n",
    "|3|1|1|1|\n",
    "|4|0|0|0|\n",
    "|5|1|0|0|\n",
    "|6|0|1|1|\n",
    "|7|0|0|0|\n",
    "|8|1|1|0|\n",
    "|9|0|1|0|\n",
    "|10|0|1|0|\n",
    "|11|0|1|0|\n",
    "|12|0|1|0|"
   ]
  },
  {
   "cell_type": "code",
   "execution_count": 90,
   "metadata": {
    "ExecuteTime": {
     "end_time": "2019-09-10T05:32:06.856410Z",
     "start_time": "2019-09-10T05:32:06.852406Z"
    }
   },
   "outputs": [],
   "source": [
    "tasks = np.array([[0,1,1,0,1,0,0,1,0,0,0,0],\n",
    "          [1,1,1,0,0,1,0,1,1,1,1,1],\n",
    "          [0,0,1,0,0,1,0,0,0,0,0,0]])"
   ]
  },
  {
   "cell_type": "code",
   "execution_count": 91,
   "metadata": {
    "ExecuteTime": {
     "end_time": "2019-09-10T05:32:07.217597Z",
     "start_time": "2019-09-10T05:32:07.212621Z"
    }
   },
   "outputs": [
    {
     "data": {
      "text/plain": [
       "(13.784810126582279, 0.24513037169064417)"
      ]
     },
     "execution_count": 91,
     "metadata": {},
     "output_type": "execute_result"
    }
   ],
   "source": [
    "from statsmodels.sandbox.stats.runs import cochrans_q\n",
    "q_stat, p = cochrans_q(tasks)\n",
    "q_stat, p"
   ]
  },
  {
   "cell_type": "markdown",
   "metadata": {},
   "source": [
    "# question"
   ]
  },
  {
   "cell_type": "markdown",
   "metadata": {},
   "source": [
    "## 品茶实验"
   ]
  },
  {
   "cell_type": "markdown",
   "metadata": {},
   "source": [
    "$H_0:没有办法辨别不同调制的牛奶$"
   ]
  },
  {
   "cell_type": "code",
   "execution_count": 92,
   "metadata": {
    "ExecuteTime": {
     "end_time": "2019-09-12T05:25:20.511127Z",
     "start_time": "2019-09-12T05:25:20.506124Z"
    }
   },
   "outputs": [
    {
     "data": {
      "text/plain": [
       "array([[3, 1],\n",
       "       [1, 3]])"
      ]
     },
     "execution_count": 92,
     "metadata": {},
     "output_type": "execute_result"
    }
   ],
   "source": [
    "data = np.array([[3, 1], [1, 3]])\n",
    "data"
   ]
  },
  {
   "cell_type": "code",
   "execution_count": 94,
   "metadata": {
    "ExecuteTime": {
     "end_time": "2019-09-12T05:26:33.451463Z",
     "start_time": "2019-09-12T05:26:33.447435Z"
    }
   },
   "outputs": [
    {
     "data": {
      "text/plain": [
       "(9.0, 0.24285714285714263)"
      ]
     },
     "execution_count": 94,
     "metadata": {},
     "output_type": "execute_result"
    }
   ],
   "source": [
    "st.fisher_exact(data, alternative='greater')"
   ]
  },
  {
   "cell_type": "markdown",
   "metadata": {},
   "source": [
    "## 卡方列联表检验（1个自由度）"
   ]
  },
  {
   "cell_type": "code",
   "execution_count": 106,
   "metadata": {
    "ExecuteTime": {
     "end_time": "2019-09-12T05:41:59.656659Z",
     "start_time": "2019-09-12T05:41:59.648661Z"
    }
   },
   "outputs": [
    {
     "data": {
      "text/plain": [
       "array([[36, 14],\n",
       "       [30, 25]])"
      ]
     },
     "execution_count": 106,
     "metadata": {},
     "output_type": "execute_result"
    },
    {
     "data": {
      "text/plain": [
       "(2.710942466624286, 0.09966209595851808, 1, array([[31.42857143, 18.57142857],\n",
       "        [34.57142857, 20.42857143]]))"
      ]
     },
     "execution_count": 106,
     "metadata": {},
     "output_type": "execute_result"
    }
   ],
   "source": [
    "data = np.array([[36, 14], [30, 25]])\n",
    "data\n",
    "st.chi2_contingency(data, correction=True) #Yates校正"
   ]
  },
  {
   "cell_type": "code",
   "execution_count": 107,
   "metadata": {
    "ExecuteTime": {
     "end_time": "2019-09-12T05:42:11.647966Z",
     "start_time": "2019-09-12T05:42:11.639967Z"
    }
   },
   "outputs": [
    {
     "data": {
      "text/plain": [
       "array([[36, 14],\n",
       "       [29, 26]])"
      ]
     },
     "execution_count": 107,
     "metadata": {},
     "output_type": "execute_result"
    },
    {
     "data": {
      "text/plain": [
       "(3.3483435314685317, 0.06727267795922476, 1, array([[30.95238095, 19.04761905],\n",
       "        [34.04761905, 20.95238095]]))"
      ]
     },
     "execution_count": 107,
     "metadata": {},
     "output_type": "execute_result"
    },
    {
     "data": {
      "text/plain": [
       "(4.125104895104895, 0.04225140122445083, 1, array([[30.95238095, 19.04761905],\n",
       "        [34.04761905, 20.95238095]]))"
      ]
     },
     "execution_count": 107,
     "metadata": {},
     "output_type": "execute_result"
    }
   ],
   "source": [
    "data = np.array([[36, 14], [29, 26]])\n",
    "data\n",
    "st.chi2_contingency(data, correction=True) #Yates校正\n",
    "st.chi2_contingency(data, correction=False)"
   ]
  },
  {
   "cell_type": "markdown",
   "metadata": {},
   "source": [
    "## 单向卡方检验（>1自由度）"
   ]
  },
  {
   "cell_type": "code",
   "execution_count": 108,
   "metadata": {
    "ExecuteTime": {
     "end_time": "2019-09-12T05:44:38.947722Z",
     "start_time": "2019-09-12T05:44:38.944719Z"
    }
   },
   "outputs": [],
   "source": [
    "data = np.array([4, 6, 14, 10, 16])"
   ]
  },
  {
   "cell_type": "code",
   "execution_count": 109,
   "metadata": {
    "ExecuteTime": {
     "end_time": "2019-09-12T05:44:49.940465Z",
     "start_time": "2019-09-12T05:44:49.935464Z"
    }
   },
   "outputs": [
    {
     "data": {
      "text/plain": [
       "Power_divergenceResult(statistic=10.4, pvalue=0.03420269940871678)"
      ]
     },
     "execution_count": 109,
     "metadata": {},
     "output_type": "execute_result"
    }
   ],
   "source": [
    "st.chisquare(data)"
   ]
  },
  {
   "cell_type": "markdown",
   "metadata": {},
   "source": [
    "## McNemar检验"
   ]
  },
  {
   "cell_type": "code",
   "execution_count": 110,
   "metadata": {
    "ExecuteTime": {
     "end_time": "2019-09-12T05:49:44.748461Z",
     "start_time": "2019-09-12T05:49:44.743459Z"
    }
   },
   "outputs": [
    {
     "data": {
      "text/plain": [
       "array([[19,  1],\n",
       "       [ 6, 14]])"
      ]
     },
     "execution_count": 110,
     "metadata": {},
     "output_type": "execute_result"
    }
   ],
   "source": [
    "data = np.array([[19, 1], [6, 14]])\n",
    "data"
   ]
  },
  {
   "cell_type": "code",
   "execution_count": 111,
   "metadata": {
    "ExecuteTime": {
     "end_time": "2019-09-12T05:50:08.741758Z",
     "start_time": "2019-09-12T05:50:08.736760Z"
    }
   },
   "outputs": [],
   "source": [
    "from statsmodels.sandbox.stats.runs import mcnemar"
   ]
  },
  {
   "cell_type": "code",
   "execution_count": 112,
   "metadata": {
    "ExecuteTime": {
     "end_time": "2019-09-12T05:50:13.986964Z",
     "start_time": "2019-09-12T05:50:13.983966Z"
    }
   },
   "outputs": [
    {
     "data": {
      "text/plain": [
       "(1, 0.125)"
      ]
     },
     "execution_count": 112,
     "metadata": {},
     "output_type": "execute_result"
    }
   ],
   "source": [
    "mcnemar(data)"
   ]
  },
  {
   "cell_type": "code",
   "execution_count": 114,
   "metadata": {
    "ExecuteTime": {
     "end_time": "2019-09-12T05:51:45.373509Z",
     "start_time": "2019-09-12T05:51:45.367510Z"
    }
   },
   "outputs": [
    {
     "data": {
      "text/plain": [
       "array([[20,  0],\n",
       "       [ 6, 14]])"
      ]
     },
     "execution_count": 114,
     "metadata": {},
     "output_type": "execute_result"
    },
    {
     "data": {
      "text/plain": [
       "(0, 0.03125)"
      ]
     },
     "execution_count": 114,
     "metadata": {},
     "output_type": "execute_result"
    }
   ],
   "source": [
    "data = np.array([[20, 0], [6, 14]])\n",
    "data\n",
    "mcnemar(data)"
   ]
  },
  {
   "cell_type": "code",
   "execution_count": null,
   "metadata": {},
   "outputs": [],
   "source": []
  }
 ],
 "metadata": {
  "hide_input": false,
  "kernelspec": {
   "display_name": "Python 3",
   "language": "python",
   "name": "python3"
  },
  "language_info": {
   "codemirror_mode": {
    "name": "ipython",
    "version": 3
   },
   "file_extension": ".py",
   "mimetype": "text/x-python",
   "name": "python",
   "nbconvert_exporter": "python",
   "pygments_lexer": "ipython3",
   "version": "3.7.3"
  },
  "nbTranslate": {
   "displayLangs": [
    "*"
   ],
   "hotkey": "alt-t",
   "langInMainMenu": true,
   "sourceLang": "en",
   "targetLang": "fr",
   "useGoogleTranslate": true
  },
  "toc": {
   "base_numbering": 1,
   "nav_menu": {},
   "number_sections": true,
   "sideBar": true,
   "skip_h1_title": false,
   "title_cell": "Table of Contents",
   "title_sidebar": "Contents",
   "toc_cell": false,
   "toc_position": {},
   "toc_section_display": true,
   "toc_window_display": true
  },
  "varInspector": {
   "cols": {
    "lenName": 16,
    "lenType": 16,
    "lenVar": 40
   },
   "kernels_config": {
    "python": {
     "delete_cmd_postfix": "",
     "delete_cmd_prefix": "del ",
     "library": "var_list.py",
     "varRefreshCmd": "print(var_dic_list())"
    },
    "r": {
     "delete_cmd_postfix": ") ",
     "delete_cmd_prefix": "rm(",
     "library": "var_list.r",
     "varRefreshCmd": "cat(var_dic_list()) "
    }
   },
   "types_to_exclude": [
    "module",
    "function",
    "builtin_function_or_method",
    "instance",
    "_Feature"
   ],
   "window_display": false
  }
 },
 "nbformat": 4,
 "nbformat_minor": 2
}
