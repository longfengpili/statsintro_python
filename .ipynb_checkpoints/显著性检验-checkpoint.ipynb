{
 "cells": [
  {
   "cell_type": "code",
   "execution_count": 39,
   "metadata": {
    "ExecuteTime": {
     "end_time": "2019-09-02T05:43:52.902587Z",
     "start_time": "2019-09-02T05:43:52.816561Z"
    },
    "run_control": {
     "marked": false
    }
   },
   "outputs": [],
   "source": [
    "import seaborn as sns"
   ]
  },
  {
   "cell_type": "markdown",
   "metadata": {},
   "source": [
    "# 单样本t检验"
   ]
  },
  {
   "cell_type": "markdown",
   "metadata": {},
   "source": [
    "Task1:汽车引擎是否满足排放标准？\n",
    "“Super Engine”是一家专门生产汽车引擎的公司，根据政府发布的新排放要求，引擎排放平均值要低于20ppm。公司制造出10台引擎供测试使用，每一台的排放水平如下：\n",
    "15.6 16.2 22.5 20.5 16.4 19.4 16.6 17.9 12.7 13.9\n",
    "问题：公司生产的引擎是否符合政府规定呢？"
   ]
  },
  {
   "cell_type": "markdown",
   "metadata": {},
   "source": [
    "$H_0:mean >= 20$  \n",
    "$H_1:mean < 20$"
   ]
  },
  {
   "cell_type": "code",
   "execution_count": 2,
   "metadata": {
    "ExecuteTime": {
     "end_time": "2019-09-02T05:26:02.996781Z",
     "start_time": "2019-09-02T05:26:02.981776Z"
    }
   },
   "outputs": [
    {
     "data": {
      "text/plain": [
       "array([15.6, 16.2, 22.5, 20.5, 16.4, 19.4, 16.6, 17.9, 12.7, 13.9])"
      ]
     },
     "execution_count": 2,
     "metadata": {},
     "output_type": "execute_result"
    }
   ],
   "source": [
    "data = np.array([15.6, 16.2, 22.5, 20.5, 16.4, 19.4, 16.6, 17.9, 12.7, 13.9])\n",
    "data"
   ]
  },
  {
   "cell_type": "code",
   "execution_count": 3,
   "metadata": {
    "ExecuteTime": {
     "end_time": "2019-09-02T05:26:03.009804Z",
     "start_time": "2019-09-02T05:26:02.997773Z"
    }
   },
   "outputs": [],
   "source": [
    "from scipy import stats as st\n",
    "td = st.t(len(data) - 1)"
   ]
  },
  {
   "cell_type": "code",
   "execution_count": 4,
   "metadata": {
    "ExecuteTime": {
     "end_time": "2019-09-02T05:26:03.025775Z",
     "start_time": "2019-09-02T05:26:03.010778Z"
    }
   },
   "outputs": [
    {
     "data": {
      "text/plain": [
       "-3.001649525885985"
      ]
     },
     "execution_count": 4,
     "metadata": {},
     "output_type": "execute_result"
    },
    {
     "data": {
      "text/plain": [
       "0.0074582071244487635"
      ]
     },
     "execution_count": 4,
     "metadata": {},
     "output_type": "execute_result"
    }
   ],
   "source": [
    "tval = (np.mean(data) - 20) / (np.std(data, ddof=1) / len(data) **(1/2))\n",
    "tval\n",
    "td.cdf(tval)"
   ]
  },
  {
   "cell_type": "code",
   "execution_count": 5,
   "metadata": {
    "ExecuteTime": {
     "end_time": "2019-09-02T05:26:03.038800Z",
     "start_time": "2019-09-02T05:26:03.027776Z"
    }
   },
   "outputs": [
    {
     "data": {
      "text/plain": [
       "0.0074582071244487635"
      ]
     },
     "execution_count": 5,
     "metadata": {},
     "output_type": "execute_result"
    }
   ],
   "source": [
    "tval, p = st.ttest_1samp(data, 20)\n",
    "p / 2"
   ]
  },
  {
   "cell_type": "markdown",
   "metadata": {},
   "source": [
    "+ 置信区间"
   ]
  },
  {
   "cell_type": "code",
   "execution_count": 6,
   "metadata": {
    "ExecuteTime": {
     "end_time": "2019-09-02T05:26:03.054775Z",
     "start_time": "2019-09-02T05:26:03.039773Z"
    }
   },
   "outputs": [
    {
     "data": {
      "text/plain": [
       "15.037204443640903"
      ]
     },
     "execution_count": 6,
     "metadata": {},
     "output_type": "execute_result"
    },
    {
     "data": {
      "text/plain": [
       "19.302795556359094"
      ]
     },
     "execution_count": 6,
     "metadata": {},
     "output_type": "execute_result"
    }
   ],
   "source": [
    "np.mean(data) + td.ppf(0.05/2)*(np.std(data, ddof=1) / len(data) **(1/2))\n",
    "np.mean(data) - td.ppf(0.05/2)*(np.std(data, ddof=1) / len(data) **(1/2))"
   ]
  },
  {
   "cell_type": "markdown",
   "metadata": {},
   "source": [
    "# 正态性检验"
   ]
  },
  {
   "cell_type": "markdown",
   "metadata": {},
   "source": [
    "## W检验（SHAPIRO-WILK TEST）"
   ]
  },
  {
   "cell_type": "markdown",
   "metadata": {},
   "source": [
    "+ 检验数据样本是否具有高斯分布。w检验是检验样本容量8≤n ≤50时，样本是否符合正态分布的一种方法。\n",
    "\n",
    "+ 假设\n",
    "    >每个样本中的观察是独立同分布的（iid）。\n",
    "\n",
    "+ 解释\n",
    ">H0：样本具有高斯分布。  \n",
    ">H1：样本没有高斯分布。"
   ]
  },
  {
   "cell_type": "code",
   "execution_count": 7,
   "metadata": {
    "ExecuteTime": {
     "end_time": "2019-09-02T05:26:03.064775Z",
     "start_time": "2019-09-02T05:26:03.056775Z"
    }
   },
   "outputs": [],
   "source": [
    "from scipy import stats as st"
   ]
  },
  {
   "cell_type": "code",
   "execution_count": 8,
   "metadata": {
    "ExecuteTime": {
     "end_time": "2019-09-02T05:26:03.125774Z",
     "start_time": "2019-09-02T05:26:03.065773Z"
    }
   },
   "outputs": [
    {
     "data": {
      "text/plain": [
       "(0.960827648639679, 0.004608450923115015)"
      ]
     },
     "execution_count": 8,
     "metadata": {},
     "output_type": "execute_result"
    },
    {
     "data": {
      "text/plain": [
       "(0.9928040504455566, 0.8759610056877136)"
      ]
     },
     "execution_count": 8,
     "metadata": {},
     "output_type": "execute_result"
    }
   ],
   "source": [
    "data = np.random.randint(10, 100, 100) #随机选择数据\n",
    "st.shapiro(data)\n",
    "\n",
    "data = np.random.randn(100)\n",
    "st.shapiro(data)"
   ]
  },
  {
   "cell_type": "markdown",
   "metadata": {},
   "source": [
    "## D’AGOSTINO’S K^2 TEST"
   ]
  },
  {
   "cell_type": "markdown",
   "metadata": {},
   "source": [
    "+ 检验数据样本是否具有高斯分布。\n",
    "\n",
    "+ 假设\n",
    ">每个样本中的观察是独立同分布的（iid）。\n",
    "+ 解释\n",
    ">H0：样本具有高斯分布。  \n",
    ">H1：样本没有高斯分布。"
   ]
  },
  {
   "cell_type": "code",
   "execution_count": 9,
   "metadata": {
    "ExecuteTime": {
     "end_time": "2019-09-02T05:26:03.139778Z",
     "start_time": "2019-09-02T05:26:03.127774Z"
    }
   },
   "outputs": [
    {
     "data": {
      "text/plain": [
       "NormaltestResult(statistic=38.53211403360539, pvalue=4.2939575784400775e-09)"
      ]
     },
     "execution_count": 9,
     "metadata": {},
     "output_type": "execute_result"
    },
    {
     "data": {
      "text/plain": [
       "NormaltestResult(statistic=0.0065376565713865, pvalue=0.9967365085168733)"
      ]
     },
     "execution_count": 9,
     "metadata": {},
     "output_type": "execute_result"
    }
   ],
   "source": [
    "data = np.random.randint(10, 100, 100) #随机选择数据\n",
    "st.normaltest(data)\n",
    "\n",
    "data = np.random.randn(100)\n",
    "st.normaltest(data)"
   ]
  },
  {
   "cell_type": "markdown",
   "metadata": {},
   "source": [
    "## ANDERSON-DARLING检验"
   ]
  },
  {
   "cell_type": "markdown",
   "metadata": {},
   "source": [
    "+ 检验数据样本是否具有高斯分布。\n",
    "\n",
    "+ 假设\n",
    ">每个样本中的观察是独立同分布的（iid）。\n",
    "+ 解释\n",
    ">H0：样本具有高斯分布。  \n",
    ">H1：样本没有高斯分布。"
   ]
  },
  {
   "cell_type": "code",
   "execution_count": 10,
   "metadata": {
    "ExecuteTime": {
     "end_time": "2019-09-02T05:26:03.154803Z",
     "start_time": "2019-09-02T05:26:03.141775Z"
    }
   },
   "outputs": [
    {
     "data": {
      "text/plain": [
       "AndersonResult(statistic=1.7491890616592372, critical_values=array([0.555, 0.632, 0.759, 0.885, 1.053]), significance_level=array([15. , 10. ,  5. ,  2.5,  1. ]))"
      ]
     },
     "execution_count": 10,
     "metadata": {},
     "output_type": "execute_result"
    },
    {
     "data": {
      "text/plain": [
       "AndersonResult(statistic=0.19270907485569921, critical_values=array([0.555, 0.632, 0.759, 0.885, 1.053]), significance_level=array([15. , 10. ,  5. ,  2.5,  1. ]))"
      ]
     },
     "execution_count": 10,
     "metadata": {},
     "output_type": "execute_result"
    }
   ],
   "source": [
    "data = np.random.randint(10, 100, 100) #随机选择数据\n",
    "st.anderson(data) #返回：statistic - 统计数；critical_values - 评判值；significance_level - 显著性水平\n",
    "\n",
    "data = np.random.randn(100)\n",
    "st.anderson(data)"
   ]
  },
  {
   "cell_type": "markdown",
   "metadata": {},
   "source": [
    "# 相关性检验"
   ]
  },
  {
   "cell_type": "markdown",
   "metadata": {},
   "source": [
    "## 皮尔逊相关系数( PEARSON CORRELATION COEFFICIENT）"
   ]
  },
  {
   "cell_type": "markdown",
   "metadata": {},
   "source": [
    "+ 检验两个样本是否具有单调关系。  \n",
    "\n",
    "+ 假设\n",
    ">每个样本中的观察是独立同分布的（iid）。  \n",
    ">每个样本的观察都是正态分布的。  \n",
    ">每个样本中的观察具有相同的方差。\n",
    "+ 解释 \n",
    ">H0：两个样本是独立的。  \n",
    ">H1：样本之间存在依赖关系。"
   ]
  },
  {
   "cell_type": "code",
   "execution_count": 11,
   "metadata": {
    "ExecuteTime": {
     "end_time": "2019-09-02T05:26:03.168777Z",
     "start_time": "2019-09-02T05:26:03.156776Z"
    }
   },
   "outputs": [
    {
     "data": {
      "text/plain": [
       "(-0.17124860840568257, 0.08846244969274199)"
      ]
     },
     "execution_count": 11,
     "metadata": {},
     "output_type": "execute_result"
    },
    {
     "data": {
      "text/plain": [
       "(-0.12066459676011662, 0.23175490344138205)"
      ]
     },
     "execution_count": 11,
     "metadata": {},
     "output_type": "execute_result"
    }
   ],
   "source": [
    "np.random.seed(43)\n",
    "data1 = np.random.randint(10, 100, 100) #随机选择数据\n",
    "np.random.seed(43)\n",
    "data2 = np.random.randint(10,50,100)\n",
    "st.pearsonr(data1, data2)\n",
    "\n",
    "np.random.seed(43)\n",
    "data1 = np.random.randn(100)\n",
    "data2 = data1 * 10\n",
    "data2 = np.random.randn(100) * 10\n",
    "st.pearsonr(data1, data2) # corr, p"
   ]
  },
  {
   "cell_type": "markdown",
   "metadata": {},
   "source": [
    "## SPEARMAN相关系数（SPEARMAN’S RANK CORRELATION）"
   ]
  },
  {
   "cell_type": "markdown",
   "metadata": {},
   "source": [
    "+ 检验两个样本是否具有单调关系。\n",
    "\n",
    "+ 假设\n",
    ">每个样本中的观察是独立同分布的（iid）。  \n",
    ">可以对每个样本中的观察进行排序。\n",
    "+ 解释\n",
    ">H0：两个样本是独立的。  \n",
    ">H1：样本之间存在依赖关系。"
   ]
  },
  {
   "cell_type": "code",
   "execution_count": 12,
   "metadata": {
    "ExecuteTime": {
     "end_time": "2019-09-02T05:26:03.183779Z",
     "start_time": "2019-09-02T05:26:03.170776Z"
    }
   },
   "outputs": [
    {
     "data": {
      "text/plain": [
       "SpearmanrResult(correlation=-0.1722918273032921, pvalue=0.08651034713559798)"
      ]
     },
     "execution_count": 12,
     "metadata": {},
     "output_type": "execute_result"
    },
    {
     "data": {
      "text/plain": [
       "SpearmanrResult(correlation=0.9999999999999999, pvalue=0.0)"
      ]
     },
     "execution_count": 12,
     "metadata": {},
     "output_type": "execute_result"
    }
   ],
   "source": [
    "np.random.seed(43)\n",
    "data1 = np.random.randint(10, 100, 100) #随机选择数据\n",
    "np.random.seed(43)\n",
    "data2 = np.random.randint(10,50,100)\n",
    "st.spearmanr(data1, data2)\n",
    "\n",
    "np.random.seed(43)\n",
    "data1 = np.random.randn(100)\n",
    "data2 = data1 * 10\n",
    "st.spearmanr(data1, data2) # corr, p"
   ]
  },
  {
   "cell_type": "markdown",
   "metadata": {},
   "source": [
    "## KENDALL秩相关系数（KENDALL’S RANK CORRELATION）"
   ]
  },
  {
   "cell_type": "markdown",
   "metadata": {},
   "source": [
    "+ 检验两个样本是否具有单调关系。\n",
    "\n",
    "+ 假设\n",
    ">每个样本中的观察是独立同分布的（iid）。  \n",
    ">可以对每个样本中的观察进行排序。\n",
    "+ 解释\n",
    ">H0：两个样本是独立的。  \n",
    ">H1：样本之间存在依赖关系。"
   ]
  },
  {
   "cell_type": "code",
   "execution_count": 13,
   "metadata": {
    "ExecuteTime": {
     "end_time": "2019-09-02T05:26:03.195776Z",
     "start_time": "2019-09-02T05:26:03.184775Z"
    }
   },
   "outputs": [
    {
     "data": {
      "text/plain": [
       "KendalltauResult(correlation=-0.11650071147971187, pvalue=0.09146727172678412)"
      ]
     },
     "execution_count": 13,
     "metadata": {},
     "output_type": "execute_result"
    },
    {
     "data": {
      "text/plain": [
       "KendalltauResult(correlation=1.0, pvalue=2.143020576250934e-158)"
      ]
     },
     "execution_count": 13,
     "metadata": {},
     "output_type": "execute_result"
    }
   ],
   "source": [
    "np.random.seed(43)\n",
    "data1 = np.random.randint(10, 100, 100) #随机选择数据\n",
    "np.random.seed(43)\n",
    "data2 = np.random.randint(10,50,100)\n",
    "st.kendalltau(data1, data2)\n",
    "\n",
    "np.random.seed(43)\n",
    "data1 = np.random.randn(100)\n",
    "data2 = data1 * 10\n",
    "st.kendalltau(data1, data2) # corr, p"
   ]
  },
  {
   "cell_type": "markdown",
   "metadata": {},
   "source": [
    "# 参数统计假设检验"
   ]
  },
  {
   "cell_type": "markdown",
   "metadata": {},
   "source": [
    "## T检验（STUDENT’S T-TEST）"
   ]
  },
  {
   "cell_type": "markdown",
   "metadata": {},
   "source": [
    "+ 检验两个独立样本的均值是否存在显著差异。\n",
    "\n",
    "+ 假设\n",
    ">每个样本中的观察是独立同分布的（iid）。  \n",
    ">每个样本的观察都是正态分布的。  \n",
    ">每个样本中的观察具有相同的方差。\n",
    "+ 解释\n",
    ">H0：样本的均值相等。  \n",
    ">H1：样本的均值不相等。"
   ]
  },
  {
   "cell_type": "code",
   "execution_count": 45,
   "metadata": {
    "ExecuteTime": {
     "end_time": "2019-09-02T05:45:31.577773Z",
     "start_time": "2019-09-02T05:45:31.357771Z"
    }
   },
   "outputs": [
    {
     "data": {
      "text/plain": [
       "<matplotlib.axes._subplots.AxesSubplot at 0x186126bf358>"
      ]
     },
     "execution_count": 45,
     "metadata": {},
     "output_type": "execute_result"
    },
    {
     "data": {
      "text/plain": [
       "0.22125976711958253"
      ]
     },
     "execution_count": 45,
     "metadata": {},
     "output_type": "execute_result"
    },
    {
     "data": {
      "text/plain": [
       "array([-0.83315434,  1.23769101, -2.47573104, -1.03863091,  0.99464485,\n",
       "        0.17822492, -0.48907961, -0.44208862, -0.25160849, -0.46864698,\n",
       "       -0.67359719,  0.17144189])"
      ]
     },
     "execution_count": 45,
     "metadata": {},
     "output_type": "execute_result"
    },
    {
     "data": {
      "text/plain": [
       "<matplotlib.axes._subplots.AxesSubplot at 0x18612724438>"
      ]
     },
     "execution_count": 45,
     "metadata": {},
     "output_type": "execute_result"
    },
    {
     "data": {
      "text/plain": [
       "-0.3408778747867168"
      ]
     },
     "execution_count": 45,
     "metadata": {},
     "output_type": "execute_result"
    },
    {
     "data": {
      "text/plain": [
       "Ttest_indResult(statistic=1.3809535172075822, pvalue=0.1825305658411529)"
      ]
     },
     "execution_count": 45,
     "metadata": {},
     "output_type": "execute_result"
    },
    {
     "data": {
      "image/png": "[encoded data removed]",
      "text/plain": [
       "<Figure size 432x288 with 2 Axes>"
      ]
     },
     "metadata": {
      "needs_background": "light"
     },
     "output_type": "display_data"
    }
   ],
   "source": [
    "fig, axes = plt.subplots(1,2)\n",
    "nd = st.norm()\n",
    "data1 = nd.rvs(size=10, random_state=43)\n",
    "sns.distplot(data1, ax=axes[0])\n",
    "np.mean(data1)\n",
    "data2 = nd.rvs(size=12, random_state=143)\n",
    "data2\n",
    "sns.distplot(data2, ax=axes[1])\n",
    "np.mean(data2)\n",
    "st.ttest_ind(data1, data2)"
   ]
  },
  {
   "cell_type": "markdown",
   "metadata": {},
   "source": [
    "## 配对T检验（PAIRED STUDENT’S T-TEST）"
   ]
  },
  {
   "cell_type": "markdown",
   "metadata": {},
   "source": [
    "+ 检验两个配对样本的均值是否存在显著差异。\n",
    "\n",
    "+ 假设\n",
    ">每个样本中的观察是独立同分布的（iid）。  \n",
    ">每个样本的观察都是正态分布的。  \n",
    ">每个样本中的观察具有相同的方差。  \n",
    ">每个样本的观察结果是成对的。  \n",
    "+ 解释\n",
    ">H0：样本的均值相等。  \n",
    "H1：样本的均值不相等。"
   ]
  },
  {
   "cell_type": "code",
   "execution_count": 68,
   "metadata": {
    "ExecuteTime": {
     "end_time": "2019-09-02T05:52:25.493316Z",
     "start_time": "2019-09-02T05:52:25.488317Z"
    }
   },
   "outputs": [
    {
     "data": {
      "text/plain": [
       "array([14, 10, 11, 15, 10, 13, 11, 12, 17, 10, 13, 12, 19, 11, 12, 12, 13,\n",
       "       15, 14, 14])"
      ]
     },
     "execution_count": 68,
     "metadata": {},
     "output_type": "execute_result"
    },
    {
     "data": {
      "text/plain": [
       "array([14.98683773, 11.82685531, 10.69605269, 13.8037441 , 11.20184169,\n",
       "       14.52513977, 11.98548218, 11.74627728, 14.92895766, 11.60421338,\n",
       "       12.61134427, 11.48088938, 19.56504662, 10.42669988, 11.15156679,\n",
       "       10.19708491, 14.2736748 , 14.78360035, 13.65419663, 12.87077669])"
      ]
     },
     "execution_count": 68,
     "metadata": {},
     "output_type": "execute_result"
    }
   ],
   "source": [
    "np.random.seed(43)\n",
    "data1 = np.random.randint(10, 20, 20)\n",
    "data1\n",
    "\n",
    "data2 = data1 + np.random.randn(20)\n",
    "data2"
   ]
  },
  {
   "cell_type": "code",
   "execution_count": 69,
   "metadata": {
    "ExecuteTime": {
     "end_time": "2019-09-02T05:52:26.411318Z",
     "start_time": "2019-09-02T05:52:26.405347Z"
    }
   },
   "outputs": [
    {
     "data": {
      "text/plain": [
       "Ttest_relResult(statistic=-0.06169740605058431, pvalue=0.9514482084477576)"
      ]
     },
     "execution_count": 69,
     "metadata": {},
     "output_type": "execute_result"
    }
   ],
   "source": [
    "st.ttest_rel(data1, data2)"
   ]
  },
  {
   "cell_type": "markdown",
   "metadata": {},
   "source": [
    "# 非参数统计假设检验"
   ]
  },
  {
   "cell_type": "markdown",
   "metadata": {},
   "source": [
    "## 曼-惠特尼U检验(MANN-WHITNEY U TEST)"
   ]
  },
  {
   "cell_type": "markdown",
   "metadata": {},
   "source": [
    "+ 检验两个独立样本的分布是否相等。\n",
    "\n",
    "+ 假设\n",
    ">每个样本中的观察是独立同分布的（iid）。  \n",
    "可以对每个样本中的观察进行排序。\n",
    "+ 解释\n",
    ">H0：两个样本的分布相等。  \n",
    "H1：两个样本的分布不相等。"
   ]
  },
  {
   "cell_type": "code",
   "execution_count": 70,
   "metadata": {
    "ExecuteTime": {
     "end_time": "2019-09-02T05:55:06.859371Z",
     "start_time": "2019-09-02T05:55:06.494377Z"
    }
   },
   "outputs": [
    {
     "data": {
      "text/plain": [
       "<matplotlib.axes._subplots.AxesSubplot at 0x18613607cf8>"
      ]
     },
     "execution_count": 70,
     "metadata": {},
     "output_type": "execute_result"
    },
    {
     "data": {
      "text/plain": [
       "0.22125976711958253"
      ]
     },
     "execution_count": 70,
     "metadata": {},
     "output_type": "execute_result"
    },
    {
     "data": {
      "text/plain": [
       "array([-0.83315434,  1.23769101, -2.47573104, -1.03863091,  0.99464485,\n",
       "        0.17822492, -0.48907961, -0.44208862, -0.25160849, -0.46864698,\n",
       "       -0.67359719,  0.17144189])"
      ]
     },
     "execution_count": 70,
     "metadata": {},
     "output_type": "execute_result"
    },
    {
     "data": {
      "text/plain": [
       "<matplotlib.axes._subplots.AxesSubplot at 0x186127a4f28>"
      ]
     },
     "execution_count": 70,
     "metadata": {},
     "output_type": "execute_result"
    },
    {
     "data": {
      "text/plain": [
       "-0.3408778747867168"
      ]
     },
     "execution_count": 70,
     "metadata": {},
     "output_type": "execute_result"
    },
    {
     "data": {
      "text/plain": [
       "MannwhitneyuResult(statistic=39.0, pvalue=0.08823085690121596)"
      ]
     },
     "execution_count": 70,
     "metadata": {},
     "output_type": "execute_result"
    },
    {
     "data": {
      "image/png": "[encoded data removed]",
      "text/plain": [
       "<Figure size 432x288 with 2 Axes>"
      ]
     },
     "metadata": {
      "needs_background": "light"
     },
     "output_type": "display_data"
    }
   ],
   "source": [
    "fig, axes = plt.subplots(1,2)\n",
    "nd = st.norm()\n",
    "data1 = nd.rvs(size=10, random_state=43)\n",
    "sns.distplot(data1, ax=axes[0])\n",
    "np.mean(data1)\n",
    "data2 = nd.rvs(size=12, random_state=143)\n",
    "data2\n",
    "sns.distplot(data2, ax=axes[1])\n",
    "np.mean(data2)\n",
    "st.mannwhitneyu(data1, data2)"
   ]
  },
  {
   "cell_type": "markdown",
   "metadata": {},
   "source": [
    "## 威尔科克森符号秩检验（WILCOXON SIGNED-RANK TEST）"
   ]
  },
  {
   "cell_type": "markdown",
   "metadata": {},
   "source": [
    "+ 检验两个配对样本的分布是否均等。\n",
    "\n",
    "+ 假设\n",
    ">每个样本中的观察是独立同分布的（iid）。  \n",
    "可以对每个样本中的观察进行排序。\n",
    "+ 解释\n",
    ">H0：两个样本的分布均等。  \n",
    "H1：两个样本的分布不均等。"
   ]
  },
  {
   "cell_type": "code",
   "execution_count": 73,
   "metadata": {
    "ExecuteTime": {
     "end_time": "2019-09-02T05:57:53.312649Z",
     "start_time": "2019-09-02T05:57:53.078650Z"
    }
   },
   "outputs": [
    {
     "data": {
      "text/plain": [
       "<matplotlib.axes._subplots.AxesSubplot at 0x186101282e8>"
      ]
     },
     "execution_count": 73,
     "metadata": {},
     "output_type": "execute_result"
    },
    {
     "data": {
      "text/plain": [
       "0.22125976711958253"
      ]
     },
     "execution_count": 73,
     "metadata": {},
     "output_type": "execute_result"
    },
    {
     "data": {
      "text/plain": [
       "array([-0.83315434,  1.23769101, -2.47573104, -1.03863091,  0.99464485,\n",
       "        0.17822492, -0.48907961, -0.44208862, -0.25160849, -0.46864698])"
      ]
     },
     "execution_count": 73,
     "metadata": {},
     "output_type": "execute_result"
    },
    {
     "data": {
      "text/plain": [
       "<matplotlib.axes._subplots.AxesSubplot at 0x186132f5b38>"
      ]
     },
     "execution_count": 73,
     "metadata": {},
     "output_type": "execute_result"
    },
    {
     "data": {
      "text/plain": [
       "-0.35883792054807506"
      ]
     },
     "execution_count": 73,
     "metadata": {},
     "output_type": "execute_result"
    },
    {
     "data": {
      "text/plain": [
       "WilcoxonResult(statistic=15.0, pvalue=0.20262160771231197)"
      ]
     },
     "execution_count": 73,
     "metadata": {},
     "output_type": "execute_result"
    },
    {
     "data": {
      "image/png": "[encoded data removed]",
      "text/plain": [
       "<Figure size 432x288 with 2 Axes>"
      ]
     },
     "metadata": {
      "needs_background": "light"
     },
     "output_type": "display_data"
    }
   ],
   "source": [
    "fig, axes = plt.subplots(1,2)\n",
    "nd = st.norm()\n",
    "data1 = nd.rvs(size=10, random_state=43)\n",
    "sns.distplot(data1, ax=axes[0])\n",
    "np.mean(data1)\n",
    "data2 = nd.rvs(size=10, random_state=143)\n",
    "data2\n",
    "sns.distplot(data2, ax=axes[1])\n",
    "np.mean(data2)\n",
    "st.wilcoxon(data1, data2)"
   ]
  },
  {
   "cell_type": "markdown",
   "metadata": {},
   "source": [
    "## KRUSKAL-WALLIS H检验（KRUSKAL-WALLIS H TEST）"
   ]
  },
  {
   "cell_type": "markdown",
   "metadata": {},
   "source": [
    "+ 检验两个或多个独立样本的分布是否相等。\n",
    "\n",
    "+ 假设\n",
    ">每个样本中的观察是独立同分布的（iid）。  \n",
    "可以对每个样本中的观察进行排序。\n",
    "+ 解释\n",
    ">H0：所有样本的分布均等。  \n",
    "H1：一个或多个样本的分布不均等。"
   ]
  },
  {
   "cell_type": "code",
   "execution_count": 75,
   "metadata": {
    "ExecuteTime": {
     "end_time": "2019-09-02T05:59:13.701705Z",
     "start_time": "2019-09-02T05:59:13.431711Z"
    }
   },
   "outputs": [
    {
     "data": {
      "text/plain": [
       "<matplotlib.axes._subplots.AxesSubplot at 0x186139a86d8>"
      ]
     },
     "execution_count": 75,
     "metadata": {},
     "output_type": "execute_result"
    },
    {
     "data": {
      "text/plain": [
       "0.22125976711958253"
      ]
     },
     "execution_count": 75,
     "metadata": {},
     "output_type": "execute_result"
    },
    {
     "data": {
      "text/plain": [
       "array([-0.83315434,  1.23769101, -2.47573104, -1.03863091,  0.99464485,\n",
       "        0.17822492, -0.48907961, -0.44208862, -0.25160849, -0.46864698])"
      ]
     },
     "execution_count": 75,
     "metadata": {},
     "output_type": "execute_result"
    },
    {
     "data": {
      "text/plain": [
       "<matplotlib.axes._subplots.AxesSubplot at 0x186139f60b8>"
      ]
     },
     "execution_count": 75,
     "metadata": {},
     "output_type": "execute_result"
    },
    {
     "data": {
      "text/plain": [
       "-0.35883792054807506"
      ]
     },
     "execution_count": 75,
     "metadata": {},
     "output_type": "execute_result"
    },
    {
     "data": {
      "text/plain": [
       "array([ 2.2441928 ,  0.1931869 , -0.0772017 , -1.23645887,  1.75403448,\n",
       "       -0.8039426 , -0.75681962,  0.66079641,  0.67709752, -0.47072956])"
      ]
     },
     "execution_count": 75,
     "metadata": {},
     "output_type": "execute_result"
    },
    {
     "data": {
      "text/plain": [
       "<matplotlib.axes._subplots.AxesSubplot at 0x186139f60b8>"
      ]
     },
     "execution_count": 75,
     "metadata": {},
     "output_type": "execute_result"
    },
    {
     "data": {
      "text/plain": [
       "0.21841557550987165"
      ]
     },
     "execution_count": 75,
     "metadata": {},
     "output_type": "execute_result"
    },
    {
     "data": {
      "text/plain": [
       "KruskalResult(statistic=1.705806451612915, pvalue=0.42617584942672815)"
      ]
     },
     "execution_count": 75,
     "metadata": {},
     "output_type": "execute_result"
    },
    {
     "data": {
      "image/png": "[encoded data removed]",
      "text/plain": [
       "<Figure size 432x288 with 2 Axes>"
      ]
     },
     "metadata": {
      "needs_background": "light"
     },
     "output_type": "display_data"
    }
   ],
   "source": [
    "fig, axes = plt.subplots(1,3)\n",
    "nd = st.norm()\n",
    "data1 = nd.rvs(size=10, random_state=43)\n",
    "sns.distplot(data1, ax=axes[0])\n",
    "np.mean(data1)\n",
    "data2 = nd.rvs(size=10, random_state=143)\n",
    "data2\n",
    "sns.distplot(data2, ax=axes[1])\n",
    "np.mean(data2)\n",
    "data3 = nd.rvs(size=10, random_state=254)\n",
    "data3\n",
    "sns.distplot(data3, ax=axes[1])\n",
    "np.mean(data3)\n",
    "st.kruskal(data1, data2, data3)"
   ]
  },
  {
   "cell_type": "code",
   "execution_count": null,
   "metadata": {},
   "outputs": [],
   "source": []
  }
 ],
 "metadata": {
  "hide_input": false,
  "kernelspec": {
   "display_name": "Python 3",
   "language": "python",
   "name": "python3"
  },
  "language_info": {
   "codemirror_mode": {
    "name": "ipython",
    "version": 3
   },
   "file_extension": ".py",
   "mimetype": "text/x-python",
   "name": "python",
   "nbconvert_exporter": "python",
   "pygments_lexer": "ipython3",
   "version": "3.7.3"
  },
  "nbTranslate": {
   "displayLangs": [
    "*"
   ],
   "hotkey": "alt-t",
   "langInMainMenu": true,
   "sourceLang": "en",
   "targetLang": "fr",
   "useGoogleTranslate": true
  },
  "toc": {
   "base_numbering": 1,
   "nav_menu": {},
   "number_sections": true,
   "sideBar": true,
   "skip_h1_title": false,
   "title_cell": "Table of Contents",
   "title_sidebar": "Contents",
   "toc_cell": false,
   "toc_position": {},
   "toc_section_display": true,
   "toc_window_display": true
  },
  "varInspector": {
   "cols": {
    "lenName": 16,
    "lenType": 16,
    "lenVar": 40
   },
   "kernels_config": {
    "python": {
     "delete_cmd_postfix": "",
     "delete_cmd_prefix": "del ",
     "library": "var_list.py",
     "varRefreshCmd": "print(var_dic_list())"
    },
    "r": {
     "delete_cmd_postfix": ") ",
     "delete_cmd_prefix": "rm(",
     "library": "var_list.r",
     "varRefreshCmd": "cat(var_dic_list()) "
    }
   },
   "types_to_exclude": [
    "module",
    "function",
    "builtin_function_or_method",
    "instance",
    "_Feature"
   ],
   "window_display": false
  }
 },
 "nbformat": 4,
 "nbformat_minor": 2
}
