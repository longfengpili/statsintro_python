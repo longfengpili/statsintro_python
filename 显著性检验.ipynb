{
 "cells": [
  {
   "cell_type": "code",
   "execution_count": 95,
   "metadata": {
    "ExecuteTime": {
     "end_time": "2019-08-28T06:05:17.163689Z",
     "start_time": "2019-08-28T06:05:17.159691Z"
    }
   },
   "outputs": [],
   "source": [
    "a1 = np.array([82,86,79,83,84,85,86,87])\n",
    "a2 = np.array([74,82,78,75,76,77])\n",
    "a3 = np.array([79,79,77,78,82,79])\n"
   ]
  },
  {
   "cell_type": "code",
   "execution_count": 96,
   "metadata": {
    "ExecuteTime": {
     "end_time": "2019-08-28T06:05:38.449691Z",
     "start_time": "2019-08-28T06:05:38.443689Z"
    }
   },
   "outputs": [
    {
     "data": {
      "text/plain": [
       "F_onewayResult(statistic=15.399999999999991, pvalue=0.0001526436388304928)"
      ]
     },
     "execution_count": 96,
     "metadata": {},
     "output_type": "execute_result"
    }
   ],
   "source": [
    "st.f_oneway(a1, a2, a3)"
   ]
  },
  {
   "cell_type": "code",
   "execution_count": 98,
   "metadata": {
    "ExecuteTime": {
     "end_time": "2019-08-28T07:00:01.659353Z",
     "start_time": "2019-08-28T07:00:01.655370Z"
    }
   },
   "outputs": [
    {
     "data": {
      "text/plain": [
       "datetime.datetime(2019, 8, 28, 6, 59, 30)"
      ]
     },
     "execution_count": 98,
     "metadata": {},
     "output_type": "execute_result"
    }
   ],
   "source": [
    "from datetime import datetime\n",
    "datetime.utcfromtimestamp(1566975570)"
   ]
  },
  {
   "cell_type": "code",
   "execution_count": 2,
   "metadata": {
    "ExecuteTime": {
     "end_time": "2019-08-29T05:43:49.495573Z",
     "start_time": "2019-08-29T05:43:49.487572Z"
    }
   },
   "outputs": [],
   "source": [
    "data_ = [\n",
    "['油炸','Gourmet','5.5'],\n",
    "['油炸','National','4.5'],\n",
    "['油炸','Generic','3.5'],\n",
    "['油炸','Gourmet','5.5'],\n",
    "['油炸','National','4.5'],\n",
    "['油炸','Generic','4'],\n",
    "['油炸','Gourmet','6'],\n",
    "['油炸','National','4'],\n",
    "['油炸','Generic','3'],\n",
    "['气压','Gourmet','6.5'],\n",
    "['气压','National','5'],\n",
    "['气压','Generic','4'],\n",
    "['气压','Gourmet','7'],\n",
    "['气压','National','5.5'],\n",
    "['气压','Generic','5'],\n",
    "['气压','Gourmet','7'],\n",
    "['气压','National','5'],\n",
    "['气压','Generic','4.5']]\n"
   ]
  },
  {
   "cell_type": "code",
   "execution_count": 18,
   "metadata": {
    "ExecuteTime": {
     "end_time": "2019-08-29T05:53:09.200030Z",
     "start_time": "2019-08-29T05:53:09.194030Z"
    }
   },
   "outputs": [],
   "source": [
    "data = DataFrame(data_, columns=['method', 'branch', 'value'])"
   ]
  },
  {
   "cell_type": "code",
   "execution_count": 25,
   "metadata": {
    "ExecuteTime": {
     "end_time": "2019-08-29T05:56:13.568346Z",
     "start_time": "2019-08-29T05:56:13.561348Z"
    }
   },
   "outputs": [
    {
     "data": {
      "text/html": [
       "<div>\n",
       "<style scoped>\n",
       "    .dataframe tbody tr th:only-of-type {\n",
       "        vertical-align: middle;\n",
       "    }\n",
       "\n",
       "    .dataframe tbody tr th {\n",
       "        vertical-align: top;\n",
       "    }\n",
       "\n",
       "    .dataframe thead th {\n",
       "        text-align: right;\n",
       "    }\n",
       "</style>\n",
       "<table border=\"1\" class=\"dataframe\">\n",
       "  <thead>\n",
       "    <tr style=\"text-align: right;\">\n",
       "      <th></th>\n",
       "      <th>method</th>\n",
       "      <th>branch</th>\n",
       "      <th>value</th>\n",
       "    </tr>\n",
       "  </thead>\n",
       "  <tbody>\n",
       "    <tr>\n",
       "      <th>0</th>\n",
       "      <td>油炸</td>\n",
       "      <td>Gourmet</td>\n",
       "      <td>5.5</td>\n",
       "    </tr>\n",
       "    <tr>\n",
       "      <th>1</th>\n",
       "      <td>油炸</td>\n",
       "      <td>National</td>\n",
       "      <td>4.5</td>\n",
       "    </tr>\n",
       "    <tr>\n",
       "      <th>2</th>\n",
       "      <td>油炸</td>\n",
       "      <td>Generic</td>\n",
       "      <td>3.5</td>\n",
       "    </tr>\n",
       "    <tr>\n",
       "      <th>3</th>\n",
       "      <td>油炸</td>\n",
       "      <td>Gourmet</td>\n",
       "      <td>5.5</td>\n",
       "    </tr>\n",
       "    <tr>\n",
       "      <th>4</th>\n",
       "      <td>油炸</td>\n",
       "      <td>National</td>\n",
       "      <td>4.5</td>\n",
       "    </tr>\n",
       "    <tr>\n",
       "      <th>5</th>\n",
       "      <td>油炸</td>\n",
       "      <td>Generic</td>\n",
       "      <td>4.0</td>\n",
       "    </tr>\n",
       "    <tr>\n",
       "      <th>6</th>\n",
       "      <td>油炸</td>\n",
       "      <td>Gourmet</td>\n",
       "      <td>6.0</td>\n",
       "    </tr>\n",
       "    <tr>\n",
       "      <th>7</th>\n",
       "      <td>油炸</td>\n",
       "      <td>National</td>\n",
       "      <td>4.0</td>\n",
       "    </tr>\n",
       "    <tr>\n",
       "      <th>8</th>\n",
       "      <td>油炸</td>\n",
       "      <td>Generic</td>\n",
       "      <td>3.0</td>\n",
       "    </tr>\n",
       "    <tr>\n",
       "      <th>9</th>\n",
       "      <td>气压</td>\n",
       "      <td>Gourmet</td>\n",
       "      <td>6.5</td>\n",
       "    </tr>\n",
       "    <tr>\n",
       "      <th>10</th>\n",
       "      <td>气压</td>\n",
       "      <td>National</td>\n",
       "      <td>5.0</td>\n",
       "    </tr>\n",
       "    <tr>\n",
       "      <th>11</th>\n",
       "      <td>气压</td>\n",
       "      <td>Generic</td>\n",
       "      <td>4.0</td>\n",
       "    </tr>\n",
       "    <tr>\n",
       "      <th>12</th>\n",
       "      <td>气压</td>\n",
       "      <td>Gourmet</td>\n",
       "      <td>7.0</td>\n",
       "    </tr>\n",
       "    <tr>\n",
       "      <th>13</th>\n",
       "      <td>气压</td>\n",
       "      <td>National</td>\n",
       "      <td>5.5</td>\n",
       "    </tr>\n",
       "    <tr>\n",
       "      <th>14</th>\n",
       "      <td>气压</td>\n",
       "      <td>Generic</td>\n",
       "      <td>5.0</td>\n",
       "    </tr>\n",
       "    <tr>\n",
       "      <th>15</th>\n",
       "      <td>气压</td>\n",
       "      <td>Gourmet</td>\n",
       "      <td>7.0</td>\n",
       "    </tr>\n",
       "    <tr>\n",
       "      <th>16</th>\n",
       "      <td>气压</td>\n",
       "      <td>National</td>\n",
       "      <td>5.0</td>\n",
       "    </tr>\n",
       "    <tr>\n",
       "      <th>17</th>\n",
       "      <td>气压</td>\n",
       "      <td>Generic</td>\n",
       "      <td>4.5</td>\n",
       "    </tr>\n",
       "  </tbody>\n",
       "</table>\n",
       "</div>"
      ],
      "text/plain": [
       "   method    branch  value\n",
       "0      油炸   Gourmet    5.5\n",
       "1      油炸  National    4.5\n",
       "2      油炸   Generic    3.5\n",
       "3      油炸   Gourmet    5.5\n",
       "4      油炸  National    4.5\n",
       "5      油炸   Generic    4.0\n",
       "6      油炸   Gourmet    6.0\n",
       "7      油炸  National    4.0\n",
       "8      油炸   Generic    3.0\n",
       "9      气压   Gourmet    6.5\n",
       "10     气压  National    5.0\n",
       "11     气压   Generic    4.0\n",
       "12     气压   Gourmet    7.0\n",
       "13     气压  National    5.5\n",
       "14     气压   Generic    5.0\n",
       "15     气压   Gourmet    7.0\n",
       "16     气压  National    5.0\n",
       "17     气压   Generic    4.5"
      ]
     },
     "execution_count": 25,
     "metadata": {},
     "output_type": "execute_result"
    }
   ],
   "source": [
    "# data['method'] = data['method'].apply(lambda x: 1 if x == '油炸' else 0)\n",
    "# data['branch'] = data['branch'].apply(lambda x: 1 if x == 'Gourmet' else 2 if x == 'National' else 3)\n",
    "data['value'] = data['value'].astype('float')\n",
    "data"
   ]
  },
  {
   "cell_type": "code",
   "execution_count": 26,
   "metadata": {
    "ExecuteTime": {
     "end_time": "2019-08-29T05:56:17.902347Z",
     "start_time": "2019-08-29T05:56:17.896345Z"
    }
   },
   "outputs": [
    {
     "data": {
      "text/plain": [
       "F_onewayResult(statistic=11.020408163265307, pvalue=0.0011365284793714142)"
      ]
     },
     "execution_count": 26,
     "metadata": {},
     "output_type": "execute_result"
    }
   ],
   "source": [
    "from scipy import stats as st\n",
    "st.f_oneway(data.loc[data.branch == 'Gourmet', 'value'], \n",
    "            data.loc[data.branch == 'National', 'value'],\n",
    "            data.loc[data.branch == 'Gourmet', 'value'])"
   ]
  },
  {
   "cell_type": "code",
   "execution_count": 28,
   "metadata": {
    "ExecuteTime": {
     "end_time": "2019-08-29T05:56:28.322348Z",
     "start_time": "2019-08-29T05:56:28.303379Z"
    }
   },
   "outputs": [
    {
     "data": {
      "text/html": [
       "<div>\n",
       "<style scoped>\n",
       "    .dataframe tbody tr th:only-of-type {\n",
       "        vertical-align: middle;\n",
       "    }\n",
       "\n",
       "    .dataframe tbody tr th {\n",
       "        vertical-align: top;\n",
       "    }\n",
       "\n",
       "    .dataframe thead th {\n",
       "        text-align: right;\n",
       "    }\n",
       "</style>\n",
       "<table border=\"1\" class=\"dataframe\">\n",
       "  <thead>\n",
       "    <tr style=\"text-align: right;\">\n",
       "      <th></th>\n",
       "      <th>df</th>\n",
       "      <th>sum_sq</th>\n",
       "      <th>mean_sq</th>\n",
       "      <th>F</th>\n",
       "      <th>PR(&gt;F)</th>\n",
       "    </tr>\n",
       "  </thead>\n",
       "  <tbody>\n",
       "    <tr>\n",
       "      <th>C(branch)</th>\n",
       "      <td>2.0</td>\n",
       "      <td>15.750000</td>\n",
       "      <td>7.875000</td>\n",
       "      <td>56.7</td>\n",
       "      <td>7.678957e-07</td>\n",
       "    </tr>\n",
       "    <tr>\n",
       "      <th>C(method)</th>\n",
       "      <td>1.0</td>\n",
       "      <td>4.500000</td>\n",
       "      <td>4.500000</td>\n",
       "      <td>32.4</td>\n",
       "      <td>1.003739e-04</td>\n",
       "    </tr>\n",
       "    <tr>\n",
       "      <th>C(branch):C(method)</th>\n",
       "      <td>2.0</td>\n",
       "      <td>0.083333</td>\n",
       "      <td>0.041667</td>\n",
       "      <td>0.3</td>\n",
       "      <td>7.462154e-01</td>\n",
       "    </tr>\n",
       "    <tr>\n",
       "      <th>Residual</th>\n",
       "      <td>12.0</td>\n",
       "      <td>1.666667</td>\n",
       "      <td>0.138889</td>\n",
       "      <td>NaN</td>\n",
       "      <td>NaN</td>\n",
       "    </tr>\n",
       "  </tbody>\n",
       "</table>\n",
       "</div>"
      ],
      "text/plain": [
       "                       df     sum_sq   mean_sq     F        PR(>F)\n",
       "C(branch)             2.0  15.750000  7.875000  56.7  7.678957e-07\n",
       "C(method)             1.0   4.500000  4.500000  32.4  1.003739e-04\n",
       "C(branch):C(method)   2.0   0.083333  0.041667   0.3  7.462154e-01\n",
       "Residual             12.0   1.666667  0.138889   NaN           NaN"
      ]
     },
     "execution_count": 28,
     "metadata": {},
     "output_type": "execute_result"
    }
   ],
   "source": [
    "from statsmodels.formula.api import ols\n",
    "from statsmodels.stats.anova import anova_lm\n",
    "\n",
    "# --- >>> START stats <<< ---\n",
    "# Determine the ANOVA with interaction\n",
    "formula = 'value ~ C(branch) + C(method) + C(branch):C(method)'\n",
    "# formula = 'value ~ C(branch)'\n",
    "lm = ols(formula, data).fit()\n",
    "anovaResults = anova_lm(lm)\n",
    "# --- >>> STOP stats <<< ---\n",
    "anovaResults"
   ]
  },
  {
   "cell_type": "markdown",
   "metadata": {},
   "source": [
    "+ p(1) = 0.0000, 推翻原假设，所以列与列之间的显著性差异存在（品牌间存在显著性差异）；\n",
    "+ p(2) = 0.0001,推翻原假设，所以行与行之间的显著性差异存在（方法间的显著性差异存在）；\n",
    "+ p(3) = 0.7462，保留原假设，则品牌和方法间的交互作用不明显。"
   ]
  },
  {
   "cell_type": "code",
   "execution_count": null,
   "metadata": {},
   "outputs": [],
   "source": []
  }
 ],
 "metadata": {
  "hide_input": false,
  "kernelspec": {
   "display_name": "Python 3",
   "language": "python",
   "name": "python3"
  },
  "language_info": {
   "codemirror_mode": {
    "name": "ipython",
    "version": 3
   },
   "file_extension": ".py",
   "mimetype": "text/x-python",
   "name": "python",
   "nbconvert_exporter": "python",
   "pygments_lexer": "ipython3",
   "version": "3.7.3"
  },
  "nbTranslate": {
   "displayLangs": [
    "*"
   ],
   "hotkey": "alt-t",
   "langInMainMenu": true,
   "sourceLang": "en",
   "targetLang": "fr",
   "useGoogleTranslate": true
  },
  "toc": {
   "base_numbering": 1,
   "nav_menu": {},
   "number_sections": true,
   "sideBar": true,
   "skip_h1_title": false,
   "title_cell": "Table of Contents",
   "title_sidebar": "Contents",
   "toc_cell": false,
   "toc_position": {},
   "toc_section_display": true,
   "toc_window_display": false
  },
  "varInspector": {
   "cols": {
    "lenName": 16,
    "lenType": 16,
    "lenVar": 40
   },
   "kernels_config": {
    "python": {
     "delete_cmd_postfix": "",
     "delete_cmd_prefix": "del ",
     "library": "var_list.py",
     "varRefreshCmd": "print(var_dic_list())"
    },
    "r": {
     "delete_cmd_postfix": ") ",
     "delete_cmd_prefix": "rm(",
     "library": "var_list.r",
     "varRefreshCmd": "cat(var_dic_list()) "
    }
   },
   "types_to_exclude": [
    "module",
    "function",
    "builtin_function_or_method",
    "instance",
    "_Feature"
   ],
   "window_display": false
  }
 },
 "nbformat": 4,
 "nbformat_minor": 2
}
